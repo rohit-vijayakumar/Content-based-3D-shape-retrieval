{
 "cells": [
  {
   "cell_type": "code",
   "execution_count": 75,
   "id": "6eb6908f",
   "metadata": {},
   "outputs": [],
   "source": [
    "from matplotlib.pyplot import draw, fill\n",
    "import pyrender\n",
    "import trimesh\n",
    "from trimesh import remesh\n",
    "import pandas as pd\n",
    "import numpy as np\n",
    "from trimesh import Trimesh\n",
    "import matplotlib\n",
    "import matplotlib.pyplot as plt\n",
    "from matplotlib import cm\n",
    "import math\n",
    "import os\n",
    "import matplotlib.mlab as mlab\n",
    "import seaborn as sns\n",
    "import skeletor as sk\n",
    "from view_data import view_mesh\n",
    "import copy\n",
    "from sklearn.preprocessing import MinMaxScaler\n",
    "from project_statistics import get_outliers\n",
    "from create_dataset import load_dataset,dir_to_sorted_file_list\n",
    "from trimesh.repair import fill_holes\n",
    "from trimesh.points import PointCloud\n",
    "import ast\n",
    "import random"
   ]
  },
  {
   "cell_type": "code",
   "execution_count": 217,
   "id": "7e2b1d2e",
   "metadata": {},
   "outputs": [],
   "source": [
    "data_normalized = pd.read_csv('fixed_features_df.csv')"
   ]
  },
  {
   "cell_type": "code",
   "execution_count": 218,
   "id": "73bfd211",
   "metadata": {},
   "outputs": [
    {
     "data": {
      "text/html": [
       "<div>\n",
       "<style scoped>\n",
       "    .dataframe tbody tr th:only-of-type {\n",
       "        vertical-align: middle;\n",
       "    }\n",
       "\n",
       "    .dataframe tbody tr th {\n",
       "        vertical-align: top;\n",
       "    }\n",
       "\n",
       "    .dataframe thead th {\n",
       "        text-align: right;\n",
       "    }\n",
       "</style>\n",
       "<table border=\"1\" class=\"dataframe\">\n",
       "  <thead>\n",
       "    <tr style=\"text-align: right;\">\n",
       "      <th></th>\n",
       "      <th>id</th>\n",
       "      <th>surface_area</th>\n",
       "      <th>compactness</th>\n",
       "      <th>sphericity</th>\n",
       "      <th>volume</th>\n",
       "      <th>diameter</th>\n",
       "      <th>rectangulairty</th>\n",
       "      <th>eccentricity</th>\n",
       "    </tr>\n",
       "  </thead>\n",
       "  <tbody>\n",
       "    <tr>\n",
       "      <th>count</th>\n",
       "      <td>1814.000000</td>\n",
       "      <td>1814.000000</td>\n",
       "      <td>1814.000000</td>\n",
       "      <td>1814.000000</td>\n",
       "      <td>1814.000000</td>\n",
       "      <td>1814.0</td>\n",
       "      <td>1814.000000</td>\n",
       "      <td>1.813000e+03</td>\n",
       "    </tr>\n",
       "    <tr>\n",
       "      <th>mean</th>\n",
       "      <td>906.500000</td>\n",
       "      <td>1.682419</td>\n",
       "      <td>23.605474</td>\n",
       "      <td>4.290284</td>\n",
       "      <td>0.131645</td>\n",
       "      <td>1.0</td>\n",
       "      <td>0.481050</td>\n",
       "      <td>9.637006e+02</td>\n",
       "    </tr>\n",
       "    <tr>\n",
       "      <th>std</th>\n",
       "      <td>523.801012</td>\n",
       "      <td>1.759210</td>\n",
       "      <td>523.212320</td>\n",
       "      <td>29.467328</td>\n",
       "      <td>0.129171</td>\n",
       "      <td>0.0</td>\n",
       "      <td>0.250417</td>\n",
       "      <td>3.638733e+04</td>\n",
       "    </tr>\n",
       "    <tr>\n",
       "      <th>min</th>\n",
       "      <td>0.000000</td>\n",
       "      <td>0.029785</td>\n",
       "      <td>0.001066</td>\n",
       "      <td>0.000045</td>\n",
       "      <td>0.008233</td>\n",
       "      <td>1.0</td>\n",
       "      <td>0.010114</td>\n",
       "      <td>8.526999e-13</td>\n",
       "    </tr>\n",
       "    <tr>\n",
       "      <th>25%</th>\n",
       "      <td>453.250000</td>\n",
       "      <td>0.635022</td>\n",
       "      <td>0.817415</td>\n",
       "      <td>0.170113</td>\n",
       "      <td>0.040416</td>\n",
       "      <td>1.0</td>\n",
       "      <td>0.332857</td>\n",
       "      <td>2.249250e-01</td>\n",
       "    </tr>\n",
       "    <tr>\n",
       "      <th>50%</th>\n",
       "      <td>906.500000</td>\n",
       "      <td>1.166979</td>\n",
       "      <td>2.058936</td>\n",
       "      <td>0.485688</td>\n",
       "      <td>0.083667</td>\n",
       "      <td>1.0</td>\n",
       "      <td>0.440785</td>\n",
       "      <td>1.131218e+00</td>\n",
       "    </tr>\n",
       "    <tr>\n",
       "      <th>75%</th>\n",
       "      <td>1359.750000</td>\n",
       "      <td>2.120572</td>\n",
       "      <td>5.878437</td>\n",
       "      <td>1.223369</td>\n",
       "      <td>0.185493</td>\n",
       "      <td>1.0</td>\n",
       "      <td>0.578376</td>\n",
       "      <td>4.587717e+00</td>\n",
       "    </tr>\n",
       "    <tr>\n",
       "      <th>max</th>\n",
       "      <td>1813.000000</td>\n",
       "      <td>34.635823</td>\n",
       "      <td>22109.240816</td>\n",
       "      <td>937.812589</td>\n",
       "      <td>0.994923</td>\n",
       "      <td>1.0</td>\n",
       "      <td>3.839250</td>\n",
       "      <td>1.541949e+06</td>\n",
       "    </tr>\n",
       "  </tbody>\n",
       "</table>\n",
       "</div>"
      ],
      "text/plain": [
       "                id  surface_area   compactness   sphericity       volume  \\\n",
       "count  1814.000000   1814.000000   1814.000000  1814.000000  1814.000000   \n",
       "mean    906.500000      1.682419     23.605474     4.290284     0.131645   \n",
       "std     523.801012      1.759210    523.212320    29.467328     0.129171   \n",
       "min       0.000000      0.029785      0.001066     0.000045     0.008233   \n",
       "25%     453.250000      0.635022      0.817415     0.170113     0.040416   \n",
       "50%     906.500000      1.166979      2.058936     0.485688     0.083667   \n",
       "75%    1359.750000      2.120572      5.878437     1.223369     0.185493   \n",
       "max    1813.000000     34.635823  22109.240816   937.812589     0.994923   \n",
       "\n",
       "       diameter  rectangulairty  eccentricity  \n",
       "count    1814.0     1814.000000  1.813000e+03  \n",
       "mean        1.0        0.481050  9.637006e+02  \n",
       "std         0.0        0.250417  3.638733e+04  \n",
       "min         1.0        0.010114  8.526999e-13  \n",
       "25%         1.0        0.332857  2.249250e-01  \n",
       "50%         1.0        0.440785  1.131218e+00  \n",
       "75%         1.0        0.578376  4.587717e+00  \n",
       "max         1.0        3.839250  1.541949e+06  "
      ]
     },
     "execution_count": 218,
     "metadata": {},
     "output_type": "execute_result"
    }
   ],
   "source": [
    "data_normalized.describe()"
   ]
  },
  {
   "cell_type": "code",
   "execution_count": 113,
   "id": "a4056d60",
   "metadata": {},
   "outputs": [
    {
     "data": {
      "text/html": [
       "<div>\n",
       "<style scoped>\n",
       "    .dataframe tbody tr th:only-of-type {\n",
       "        vertical-align: middle;\n",
       "    }\n",
       "\n",
       "    .dataframe tbody tr th {\n",
       "        vertical-align: top;\n",
       "    }\n",
       "\n",
       "    .dataframe thead th {\n",
       "        text-align: right;\n",
       "    }\n",
       "</style>\n",
       "<table border=\"1\" class=\"dataframe\">\n",
       "  <thead>\n",
       "    <tr style=\"text-align: right;\">\n",
       "      <th></th>\n",
       "      <th>id</th>\n",
       "      <th>surface_area</th>\n",
       "      <th>compactness</th>\n",
       "      <th>sphericity</th>\n",
       "      <th>volume</th>\n",
       "      <th>diameter</th>\n",
       "      <th>rectangulairty</th>\n",
       "      <th>eccentricity</th>\n",
       "      <th>curvature</th>\n",
       "      <th>A3</th>\n",
       "      <th>D1</th>\n",
       "      <th>D2</th>\n",
       "      <th>D3</th>\n",
       "      <th>D4</th>\n",
       "    </tr>\n",
       "  </thead>\n",
       "  <tbody>\n",
       "    <tr>\n",
       "      <th>0</th>\n",
       "      <td>0</td>\n",
       "      <td>-0.583110</td>\n",
       "      <td>-0.044830</td>\n",
       "      <td>0.071331</td>\n",
       "      <td>-0.039330</td>\n",
       "      <td>1.0</td>\n",
       "      <td>-0.109684</td>\n",
       "      <td>-0.026311</td>\n",
       "      <td>[  3  22 100 180 262 512 443 405]</td>\n",
       "      <td>[11871 11335  8000  5736  4745  4117  2946  1092]</td>\n",
       "      <td>[ 2283  6080  5658  8386 15850  5245  2374  3966]</td>\n",
       "      <td>[ 4717  9739 10818 11171  7455  3862  1498   582]</td>\n",
       "      <td>[10272  7834  7009  6138  4530  3649  2826  7584]</td>\n",
       "      <td>[ 6056 13523 13427  9884  4899  1575   418    60]</td>\n",
       "    </tr>\n",
       "    <tr>\n",
       "      <th>1</th>\n",
       "      <td>1</td>\n",
       "      <td>-0.640930</td>\n",
       "      <td>-0.044654</td>\n",
       "      <td>-0.009112</td>\n",
       "      <td>-0.415324</td>\n",
       "      <td>1.0</td>\n",
       "      <td>0.096999</td>\n",
       "      <td>-0.026489</td>\n",
       "      <td>[ 98 109 211 118 209  68 546 631]</td>\n",
       "      <td>[12300 10978  7711  6014  4780  4018  2915  1136]</td>\n",
       "      <td>[ 6157 12722  9005  5983  8014  5172  1814   985]</td>\n",
       "      <td>[ 7481 14871 13645  8298  3089  1411   893   164]</td>\n",
       "      <td>[18453 14253  8239  4427  2323  1130   587   440]</td>\n",
       "      <td>[ 4990 16328 16309  8776  2874   501    66     8]</td>\n",
       "    </tr>\n",
       "    <tr>\n",
       "      <th>2</th>\n",
       "      <td>2</td>\n",
       "      <td>-0.603237</td>\n",
       "      <td>-0.044844</td>\n",
       "      <td>0.081945</td>\n",
       "      <td>-0.095674</td>\n",
       "      <td>1.0</td>\n",
       "      <td>-0.043276</td>\n",
       "      <td>-0.026263</td>\n",
       "      <td>[ 31  75 272 367 246 226 164 603]</td>\n",
       "      <td>[12640 11734  7240  5179  4588  4207  3076  1167]</td>\n",
       "      <td>[ 7827 10449  6542  9166  9360  2545  2115  1827]</td>\n",
       "      <td>[ 6934 13206 13607  8837  4741  1788   579   139]</td>\n",
       "      <td>[14598 11994  7919  5313  3757  2413  1509  2328]</td>\n",
       "      <td>[ 5462 17399 14909  8062  3029   799   147    24]</td>\n",
       "    </tr>\n",
       "    <tr>\n",
       "      <th>3</th>\n",
       "      <td>3</td>\n",
       "      <td>-0.520618</td>\n",
       "      <td>-0.044900</td>\n",
       "      <td>0.137635</td>\n",
       "      <td>0.392969</td>\n",
       "      <td>1.0</td>\n",
       "      <td>-0.468705</td>\n",
       "      <td>-0.026398</td>\n",
       "      <td>[ 22  46  89  66  40 170 517 904]</td>\n",
       "      <td>[10285 11658  9543  6547  4860  3779  2342   835]</td>\n",
       "      <td>[2460 4632 4517 9448 8498 6270 5443 8581]</td>\n",
       "      <td>[3095 7970 9794 9944 8724 6559 3132  631]</td>\n",
       "      <td>[ 6569  7394  6728  5699  4730  3883  3171 11675]</td>\n",
       "      <td>[ 3858 13091 15422 10617  4907  1543   365    46]</td>\n",
       "    </tr>\n",
       "    <tr>\n",
       "      <th>4</th>\n",
       "      <td>4</td>\n",
       "      <td>-0.724641</td>\n",
       "      <td>-0.044896</td>\n",
       "      <td>0.133228</td>\n",
       "      <td>-0.475577</td>\n",
       "      <td>1.0</td>\n",
       "      <td>-0.306206</td>\n",
       "      <td>-0.026249</td>\n",
       "      <td>[134 230 430 244 369 312 191 190]</td>\n",
       "      <td>[12136 11576  7618  5606  4577  3858  3095  1383]</td>\n",
       "      <td>[ 8807  9513 13040  8791  4435  1811  1770  1682]</td>\n",
       "      <td>[ 5219 12768 13255  9502  5448  2448  1009   200]</td>\n",
       "      <td>[14164 12684  8169  5446  3570  2289  1331  2196]</td>\n",
       "      <td>[ 3794 13542 15441 10278  4652  1636   434    72]</td>\n",
       "    </tr>\n",
       "  </tbody>\n",
       "</table>\n",
       "</div>"
      ],
      "text/plain": [
       "   id  surface_area  compactness  sphericity    volume  diameter  \\\n",
       "0   0     -0.583110    -0.044830    0.071331 -0.039330       1.0   \n",
       "1   1     -0.640930    -0.044654   -0.009112 -0.415324       1.0   \n",
       "2   2     -0.603237    -0.044844    0.081945 -0.095674       1.0   \n",
       "3   3     -0.520618    -0.044900    0.137635  0.392969       1.0   \n",
       "4   4     -0.724641    -0.044896    0.133228 -0.475577       1.0   \n",
       "\n",
       "   rectangulairty  eccentricity                          curvature  \\\n",
       "0       -0.109684     -0.026311  [  3  22 100 180 262 512 443 405]   \n",
       "1        0.096999     -0.026489  [ 98 109 211 118 209  68 546 631]   \n",
       "2       -0.043276     -0.026263  [ 31  75 272 367 246 226 164 603]   \n",
       "3       -0.468705     -0.026398  [ 22  46  89  66  40 170 517 904]   \n",
       "4       -0.306206     -0.026249  [134 230 430 244 369 312 191 190]   \n",
       "\n",
       "                                                  A3  \\\n",
       "0  [11871 11335  8000  5736  4745  4117  2946  1092]   \n",
       "1  [12300 10978  7711  6014  4780  4018  2915  1136]   \n",
       "2  [12640 11734  7240  5179  4588  4207  3076  1167]   \n",
       "3  [10285 11658  9543  6547  4860  3779  2342   835]   \n",
       "4  [12136 11576  7618  5606  4577  3858  3095  1383]   \n",
       "\n",
       "                                                  D1  \\\n",
       "0  [ 2283  6080  5658  8386 15850  5245  2374  3966]   \n",
       "1  [ 6157 12722  9005  5983  8014  5172  1814   985]   \n",
       "2  [ 7827 10449  6542  9166  9360  2545  2115  1827]   \n",
       "3          [2460 4632 4517 9448 8498 6270 5443 8581]   \n",
       "4  [ 8807  9513 13040  8791  4435  1811  1770  1682]   \n",
       "\n",
       "                                                  D2  \\\n",
       "0  [ 4717  9739 10818 11171  7455  3862  1498   582]   \n",
       "1  [ 7481 14871 13645  8298  3089  1411   893   164]   \n",
       "2  [ 6934 13206 13607  8837  4741  1788   579   139]   \n",
       "3          [3095 7970 9794 9944 8724 6559 3132  631]   \n",
       "4  [ 5219 12768 13255  9502  5448  2448  1009   200]   \n",
       "\n",
       "                                                  D3  \\\n",
       "0  [10272  7834  7009  6138  4530  3649  2826  7584]   \n",
       "1  [18453 14253  8239  4427  2323  1130   587   440]   \n",
       "2  [14598 11994  7919  5313  3757  2413  1509  2328]   \n",
       "3  [ 6569  7394  6728  5699  4730  3883  3171 11675]   \n",
       "4  [14164 12684  8169  5446  3570  2289  1331  2196]   \n",
       "\n",
       "                                                  D4  \n",
       "0  [ 6056 13523 13427  9884  4899  1575   418    60]  \n",
       "1  [ 4990 16328 16309  8776  2874   501    66     8]  \n",
       "2  [ 5462 17399 14909  8062  3029   799   147    24]  \n",
       "3  [ 3858 13091 15422 10617  4907  1543   365    46]  \n",
       "4  [ 3794 13542 15441 10278  4652  1636   434    72]  "
      ]
     },
     "execution_count": 113,
     "metadata": {},
     "output_type": "execute_result"
    }
   ],
   "source": [
    "data_normalized.head()"
   ]
  },
  {
   "cell_type": "code",
   "execution_count": 114,
   "id": "c9f7d473",
   "metadata": {},
   "outputs": [
    {
     "name": "stdout",
     "output_type": "stream",
     "text": [
      "0               [  3  22 100 180 262 512 443 405]\n",
      "1               [ 98 109 211 118 209  68 546 631]\n",
      "2               [ 31  75 272 367 246 226 164 603]\n",
      "3               [ 22  46  89  66  40 170 517 904]\n",
      "4               [134 230 430 244 369 312 191 190]\n",
      "                          ...                    \n",
      "1809    [ 178   21  107   97   19   63  576 1065]\n",
      "1810            [149 257 642 288  78 127  72  37]\n",
      "1811            [ 16  58 135 254 330 386 536 178]\n",
      "1812            [298 499 554 228  81  82 115  62]\n",
      "1813    [  61  381    0   13   59  182 1151   76]\n",
      "Name: curvature, Length: 1814, dtype: object\n"
     ]
    }
   ],
   "source": [
    "shape_descriptor_normalized = data_normalized.copy()\n",
    "for column in data.columns[8:]:\n",
    "    shape_descriptor_column = data[column]\n",
    "    print(shape_descriptor_column)\n",
    "    for row in shape_descriptor_column:\n",
    "        shape_descriptor_column\n",
    "    break\n",
    "    #normalized_feature_data = standardize(data[column])\n",
    "    #data_normalized[column] = normalized_feature_data"
   ]
  },
  {
   "cell_type": "code",
   "execution_count": 84,
   "id": "ced39f13",
   "metadata": {},
   "outputs": [
    {
     "data": {
      "text/plain": [
       "0               [  3  22 100 180 262 512 443 405]\n",
       "1               [ 98 109 211 118 209  68 546 631]\n",
       "2               [ 31  75 272 367 246 226 164 603]\n",
       "3               [ 22  46  89  66  40 170 517 904]\n",
       "4               [134 230 430 244 369 312 191 190]\n",
       "                          ...                    \n",
       "1809    [ 178   21  107   97   19   63  576 1065]\n",
       "1810            [149 257 642 288  78 127  72  37]\n",
       "1811            [ 16  58 135 254 330 386 536 178]\n",
       "1812            [298 499 554 228  81  82 115  62]\n",
       "1813    [  61  381    0   13   59  182 1151   76]\n",
       "Name: curvature, Length: 1814, dtype: object"
      ]
     },
     "execution_count": 84,
     "metadata": {},
     "output_type": "execute_result"
    }
   ],
   "source": [
    "shape_descriptor_column/np"
   ]
  },
  {
   "cell_type": "code",
   "execution_count": 122,
   "id": "f837f8bd",
   "metadata": {},
   "outputs": [],
   "source": [
    "string = shape_descriptor_column[0]"
   ]
  },
  {
   "cell_type": "code",
   "execution_count": 116,
   "id": "2aec76e2",
   "metadata": {},
   "outputs": [],
   "source": [
    "data_normalized.to_pickle('data_normalized.pkl')"
   ]
  },
  {
   "cell_type": "code",
   "execution_count": 189,
   "id": "424912fb",
   "metadata": {},
   "outputs": [],
   "source": [
    "import pickle\n",
    "with open('features_finally_corrected_df.pkl', 'rb') as f:\n",
    "    x = pickle.load(f)"
   ]
  },
  {
   "cell_type": "code",
   "execution_count": 190,
   "id": "6166350d",
   "metadata": {},
   "outputs": [],
   "source": [
    "x = np.array(x['curvature'])"
   ]
  },
  {
   "cell_type": "code",
   "execution_count": 192,
   "id": "0af54154",
   "metadata": {},
   "outputs": [
    {
     "data": {
      "text/plain": [
       "array([array([  3,  22, 100, 180, 262, 512, 443, 405], dtype=int64),\n",
       "       array([ 98, 109, 211, 118, 209,  68, 546, 631], dtype=int64),\n",
       "       array([ 31,  75, 272, 367, 246, 226, 164, 603], dtype=int64)],\n",
       "      dtype=object)"
      ]
     },
     "execution_count": 192,
     "metadata": {},
     "output_type": "execute_result"
    }
   ],
   "source": [
    "x"
   ]
  },
  {
   "cell_type": "code",
   "execution_count": 191,
   "id": "21b287bb",
   "metadata": {},
   "outputs": [
    {
     "data": {
      "text/plain": [
       "(3,)"
      ]
     },
     "execution_count": 191,
     "metadata": {},
     "output_type": "execute_result"
    }
   ],
   "source": [
    "x.shape"
   ]
  },
  {
   "cell_type": "code",
   "execution_count": 203,
   "id": "f5cac438",
   "metadata": {},
   "outputs": [],
   "source": [
    "a = np.vstack(x)/np.sum(np.vstack(x))"
   ]
  },
  {
   "cell_type": "code",
   "execution_count": 206,
   "id": "23637505",
   "metadata": {},
   "outputs": [],
   "source": [
    "b = a*1.1"
   ]
  },
  {
   "cell_type": "code",
   "execution_count": 204,
   "id": "a3402647",
   "metadata": {},
   "outputs": [
    {
     "data": {
      "text/plain": [
       "array([0.00050839, 0.00372818, 0.01694628, 0.0305033 , 0.04439925,\n",
       "       0.08676496, 0.07507202, 0.06863244])"
      ]
     },
     "execution_count": 204,
     "metadata": {},
     "output_type": "execute_result"
    }
   ],
   "source": [
    "a[0]"
   ]
  },
  {
   "cell_type": "code",
   "execution_count": 205,
   "id": "3831c32f",
   "metadata": {},
   "outputs": [
    {
     "data": {
      "text/plain": [
       "array([0.01660735, 0.01847145, 0.03575665, 0.01999661, 0.03541773,\n",
       "       0.01152347, 0.09252669, 0.10693103])"
      ]
     },
     "execution_count": 205,
     "metadata": {},
     "output_type": "execute_result"
    }
   ],
   "source": [
    "a[1]"
   ]
  },
  {
   "cell_type": "code",
   "execution_count": 201,
   "id": "ce4ff43b",
   "metadata": {},
   "outputs": [],
   "source": [
    "from scipy.stats import wasserstein_distance"
   ]
  },
  {
   "cell_type": "code",
   "execution_count": 207,
   "id": "dab31d72",
   "metadata": {},
   "outputs": [
    {
     "data": {
      "text/plain": [
       "0.004081935265209289"
      ]
     },
     "execution_count": 207,
     "metadata": {},
     "output_type": "execute_result"
    }
   ],
   "source": [
    "wasserstein_distance(a[0], b[0])"
   ]
  },
  {
   "cell_type": "code",
   "execution_count": 208,
   "id": "0ab7f224",
   "metadata": {},
   "outputs": [
    {
     "data": {
      "text/plain": [
       "0.004215387222504663"
      ]
     },
     "execution_count": 208,
     "metadata": {},
     "output_type": "execute_result"
    }
   ],
   "source": [
    "wasserstein_distance(a[1], b[1])"
   ]
  },
  {
   "cell_type": "code",
   "execution_count": 209,
   "id": "a258e92e",
   "metadata": {},
   "outputs": [
    {
     "data": {
      "text/plain": [
       "0.0042026775122860575"
      ]
     },
     "execution_count": 209,
     "metadata": {},
     "output_type": "execute_result"
    }
   ],
   "source": [
    "wasserstein_distance(a[2], b[2])"
   ]
  },
  {
   "cell_type": "code",
   "execution_count": 210,
   "id": "8f7b545a",
   "metadata": {},
   "outputs": [
    {
     "data": {
      "text/plain": [
       "0.01155736315878665"
      ]
     },
     "execution_count": 210,
     "metadata": {},
     "output_type": "execute_result"
    }
   ],
   "source": [
    "wasserstein_distance(a[0], b[2])"
   ]
  },
  {
   "cell_type": "code",
   "execution_count": 164,
   "id": "622a619e",
   "metadata": {},
   "outputs": [
    {
     "data": {
      "text/plain": [
       "0     [3, 22, 100, 180, 262, 512, 443, 405]\n",
       "1    [98, 109, 211, 118, 209, 68, 546, 631]\n",
       "2    [31, 75, 272, 367, 246, 226, 164, 603]\n",
       "Name: curvature, dtype: object"
      ]
     },
     "execution_count": 164,
     "metadata": {},
     "output_type": "execute_result"
    }
   ],
   "source": [
    "x['curvature']"
   ]
  },
  {
   "cell_type": "code",
   "execution_count": 151,
   "id": "b63784f7",
   "metadata": {},
   "outputs": [],
   "source": [
    "s = string.replace('[','').replace(']','').split(' ')"
   ]
  },
  {
   "cell_type": "code",
   "execution_count": 153,
   "id": "4ba64dc1",
   "metadata": {},
   "outputs": [],
   "source": [
    "s1 = ' '.join(s).split()"
   ]
  },
  {
   "cell_type": "code",
   "execution_count": 154,
   "id": "d64a2bea",
   "metadata": {},
   "outputs": [
    {
     "data": {
      "text/plain": [
       "['3', '22', '100', '180', '262', '512', '443', '405']"
      ]
     },
     "execution_count": 154,
     "metadata": {},
     "output_type": "execute_result"
    }
   ],
   "source": [
    "s1"
   ]
  },
  {
   "cell_type": "code",
   "execution_count": 155,
   "id": "74cdb20f",
   "metadata": {},
   "outputs": [
    {
     "data": {
      "text/plain": [
       "[3, 22, 100, 180, 262, 512, 443, 405]"
      ]
     },
     "execution_count": 155,
     "metadata": {},
     "output_type": "execute_result"
    }
   ],
   "source": [
    "list(map(int, s1))"
   ]
  },
  {
   "cell_type": "code",
   "execution_count": null,
   "id": "e967c5e8",
   "metadata": {},
   "outputs": [],
   "source": [
    "features_finally_corrected_df"
   ]
  },
  {
   "cell_type": "code",
   "execution_count": null,
   "id": "ca11b801",
   "metadata": {},
   "outputs": [],
   "source": []
  }
 ],
 "metadata": {
  "kernelspec": {
   "display_name": "Python 3",
   "language": "python",
   "name": "python3"
  },
  "language_info": {
   "codemirror_mode": {
    "name": "ipython",
    "version": 3
   },
   "file_extension": ".py",
   "mimetype": "text/x-python",
   "name": "python",
   "nbconvert_exporter": "python",
   "pygments_lexer": "ipython3",
   "version": "3.6.13"
  }
 },
 "nbformat": 4,
 "nbformat_minor": 5
}
