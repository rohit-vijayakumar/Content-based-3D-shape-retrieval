{
 "cells": [
  {
   "cell_type": "code",
   "execution_count": 16,
   "id": "6eb6908f",
   "metadata": {},
   "outputs": [],
   "source": [
    "from matplotlib.pyplot import draw, fill\n",
    "import pyrender\n",
    "import trimesh\n",
    "from trimesh import remesh\n",
    "import pandas as pd\n",
    "import numpy as np\n",
    "from trimesh import Trimesh\n",
    "import matplotlib\n",
    "import matplotlib.pyplot as plt\n",
    "from matplotlib import cm\n",
    "import math\n",
    "import os\n",
    "import pickle\n",
    "import matplotlib.mlab as mlab\n",
    "import seaborn as sns\n",
    "import skeletor as sk\n",
    "from view_data import view_mesh\n",
    "import copy\n",
    "from sklearn.preprocessing import MinMaxScaler\n",
    "from project_statistics import get_outliers\n",
    "from create_dataset import load_dataset,dir_to_sorted_file_list\n",
    "from trimesh.repair import fill_holes\n",
    "from trimesh.points import PointCloud\n",
    "import ast\n",
    "import random\n",
    "from scipy.stats import wasserstein_distance\n",
    "from random import choice\n",
    "from scipy.spatial import distance\n",
    "from sklearn.preprocessing import MinMaxScaler"
   ]
  },
  {
   "cell_type": "code",
   "execution_count": 9,
   "id": "817acb8d",
   "metadata": {},
   "outputs": [],
   "source": [
    "with open('normalized_scalar_features.pkl', 'rb') as f:\n",
    "    normalized_data = pickle.load(f)"
   ]
  },
  {
   "cell_type": "code",
   "execution_count": 23,
   "id": "c93fb25e",
   "metadata": {},
   "outputs": [],
   "source": [
    "with open('normalized_features_classes.pkl', 'rb') as f:\n",
    "    data = pickle.load(f)"
   ]
  },
  {
   "cell_type": "code",
   "execution_count": 45,
   "id": "2c0e30a5",
   "metadata": {
    "scrolled": true
   },
   "outputs": [
    {
     "data": {
      "text/html": [
       "<div>\n",
       "<style scoped>\n",
       "    .dataframe tbody tr th:only-of-type {\n",
       "        vertical-align: middle;\n",
       "    }\n",
       "\n",
       "    .dataframe tbody tr th {\n",
       "        vertical-align: top;\n",
       "    }\n",
       "\n",
       "    .dataframe thead th {\n",
       "        text-align: right;\n",
       "    }\n",
       "</style>\n",
       "<table border=\"1\" class=\"dataframe\">\n",
       "  <thead>\n",
       "    <tr style=\"text-align: right;\">\n",
       "      <th></th>\n",
       "      <th>id</th>\n",
       "      <th>surface_area</th>\n",
       "      <th>volume</th>\n",
       "      <th>compactness</th>\n",
       "      <th>sphericity</th>\n",
       "      <th>diameter</th>\n",
       "      <th>rectangulairty</th>\n",
       "      <th>eccentricity</th>\n",
       "      <th>curvature</th>\n",
       "      <th>A3</th>\n",
       "      <th>D1</th>\n",
       "      <th>D2</th>\n",
       "      <th>D3</th>\n",
       "      <th>D4</th>\n",
       "    </tr>\n",
       "  </thead>\n",
       "  <tbody>\n",
       "    <tr>\n",
       "      <th>0</th>\n",
       "      <td>0</td>\n",
       "      <td>-0.583110</td>\n",
       "      <td>-0.039329</td>\n",
       "      <td>-0.116012</td>\n",
       "      <td>0.230250</td>\n",
       "      <td>1.0</td>\n",
       "      <td>-0.109650</td>\n",
       "      <td>-0.026311</td>\n",
       "      <td>[0.0015568240788790867, 0.011416709911779968, ...</td>\n",
       "      <td>[0.23664198719878007, 0.22873653163185456, 0.1...</td>\n",
       "      <td>[0.04733241036136359, 0.12355785629727724, 0.1...</td>\n",
       "      <td>[0.09370171953690884, 0.19420534119865968, 0.2...</td>\n",
       "      <td>[0.20435803286582796, 0.15628323200706273, 0.1...</td>\n",
       "      <td>[0.13328919119565, 0.28198800136439334, 0.2750...</td>\n",
       "    </tr>\n",
       "    <tr>\n",
       "      <th>1</th>\n",
       "      <td>1</td>\n",
       "      <td>-0.640930</td>\n",
       "      <td>-0.415322</td>\n",
       "      <td>-0.118042</td>\n",
       "      <td>0.272779</td>\n",
       "      <td>1.0</td>\n",
       "      <td>0.097077</td>\n",
       "      <td>-0.026489</td>\n",
       "      <td>[0.04924623115577889, 0.054773869346733665, 0....</td>\n",
       "      <td>[0.24772371746019012, 0.22417873330391883, 0.1...</td>\n",
       "      <td>[0.12446351931330472, 0.25626729774176726, 0.1...</td>\n",
       "      <td>[0.151618466968834, 0.300790180899282, 0.27189...</td>\n",
       "      <td>[0.3746741005174281, 0.28757370342144317, 0.16...</td>\n",
       "      <td>[0.07649111547872127, 0.2777064698568048, 0.32...</td>\n",
       "    </tr>\n",
       "    <tr>\n",
       "      <th>2</th>\n",
       "      <td>2</td>\n",
       "      <td>-0.603237</td>\n",
       "      <td>-0.095673</td>\n",
       "      <td>-0.118419</td>\n",
       "      <td>0.280905</td>\n",
       "      <td>1.0</td>\n",
       "      <td>-0.043228</td>\n",
       "      <td>-0.026263</td>\n",
       "      <td>[0.015625, 0.03780241935483871, 0.137096774193...</td>\n",
       "      <td>[0.25301446542142325, 0.23644242922777522, 0.1...</td>\n",
       "      <td>[0.15300042132295408, 0.21009971309913128, 0.1...</td>\n",
       "      <td>[0.14629938005336757, 0.26599522500652045, 0.2...</td>\n",
       "      <td>[0.29506650883775054, 0.24288265152579097, 0.1...</td>\n",
       "      <td>[0.11953534097064783, 0.3514635956904681, 0.29...</td>\n",
       "    </tr>\n",
       "    <tr>\n",
       "      <th>3</th>\n",
       "      <td>3</td>\n",
       "      <td>-0.520618</td>\n",
       "      <td>0.392970</td>\n",
       "      <td>-0.119893</td>\n",
       "      <td>0.313312</td>\n",
       "      <td>1.0</td>\n",
       "      <td>-0.468747</td>\n",
       "      <td>-0.026398</td>\n",
       "      <td>[0.011866235167206042, 0.02481121898597627, 0....</td>\n",
       "      <td>[0.20333848283610537, 0.23802740605501274, 0.1...</td>\n",
       "      <td>[0.05069919547378769, 0.09237004193166543, 0.0...</td>\n",
       "      <td>[0.061753907268824106, 0.1599622815641113, 0.1...</td>\n",
       "      <td>[0.1285636899865578, 0.1484260578215597, 0.138...</td>\n",
       "      <td>[0.08151596011476035, 0.2712316674357482, 0.31...</td>\n",
       "    </tr>\n",
       "    <tr>\n",
       "      <th>4</th>\n",
       "      <td>4</td>\n",
       "      <td>-0.724641</td>\n",
       "      <td>-0.475575</td>\n",
       "      <td>-0.095315</td>\n",
       "      <td>-0.114249</td>\n",
       "      <td>1.0</td>\n",
       "      <td>-0.306213</td>\n",
       "      <td>-0.026249</td>\n",
       "      <td>[0.06380952380952382, 0.10952380952380952, 0.2...</td>\n",
       "      <td>[0.2399117529081428, 0.2335138387484958, 0.155...</td>\n",
       "      <td>[0.17721620537505015, 0.18864821500200563, 0.2...</td>\n",
       "      <td>[0.1078018451664661, 0.2600882470918572, 0.267...</td>\n",
       "      <td>[0.2778780585639791, 0.25130365022061774, 0.16...</td>\n",
       "      <td>[0.07882069795427196, 0.2884476534296029, 0.31...</td>\n",
       "    </tr>\n",
       "    <tr>\n",
       "      <th>...</th>\n",
       "      <td>...</td>\n",
       "      <td>...</td>\n",
       "      <td>...</td>\n",
       "      <td>...</td>\n",
       "      <td>...</td>\n",
       "      <td>...</td>\n",
       "      <td>...</td>\n",
       "      <td>...</td>\n",
       "      <td>...</td>\n",
       "      <td>...</td>\n",
       "      <td>...</td>\n",
       "      <td>...</td>\n",
       "      <td>...</td>\n",
       "      <td>...</td>\n",
       "    </tr>\n",
       "    <tr>\n",
       "      <th>1809</th>\n",
       "      <td>1809</td>\n",
       "      <td>-0.365028</td>\n",
       "      <td>-0.011320</td>\n",
       "      <td>-0.113034</td>\n",
       "      <td>0.171236</td>\n",
       "      <td>1.0</td>\n",
       "      <td>-0.081913</td>\n",
       "      <td>-0.026487</td>\n",
       "      <td>[0.08372530573847602, 0.009877704609595485, 0....</td>\n",
       "      <td>[0.1711191335740072, 0.23331327717609307, 0.20...</td>\n",
       "      <td>[0.10609707180104291, 0.027476935419173686, 0....</td>\n",
       "      <td>[0.10146409947853992, 0.1478740473325311, 0.25...</td>\n",
       "      <td>[0.1829121540312876, 0.11217408744484557, 0.09...</td>\n",
       "      <td>[0.07059767348576013, 0.20198555956678702, 0.2...</td>\n",
       "    </tr>\n",
       "    <tr>\n",
       "      <th>1810</th>\n",
       "      <td>1810</td>\n",
       "      <td>-0.089583</td>\n",
       "      <td>0.813581</td>\n",
       "      <td>-0.138504</td>\n",
       "      <td>0.844492</td>\n",
       "      <td>1.0</td>\n",
       "      <td>-0.125955</td>\n",
       "      <td>-0.026451</td>\n",
       "      <td>[0.0903030303030303, 0.15575757575757576, 0.38...</td>\n",
       "      <td>[0.16446496687412165, 0.24053402931138326, 0.2...</td>\n",
       "      <td>[0.18598674964866493, 0.2187111021883156, 0.21...</td>\n",
       "      <td>[0.07153182091949407, 0.1783778357759486, 0.24...</td>\n",
       "      <td>[0.13278458140935556, 0.1505320216823931, 0.14...</td>\n",
       "      <td>[0.08239309375627384, 0.27639028307568764, 0.3...</td>\n",
       "    </tr>\n",
       "    <tr>\n",
       "      <th>1811</th>\n",
       "      <td>1811</td>\n",
       "      <td>-0.509943</td>\n",
       "      <td>-0.716180</td>\n",
       "      <td>-0.046532</td>\n",
       "      <td>-0.572259</td>\n",
       "      <td>1.0</td>\n",
       "      <td>-0.403390</td>\n",
       "      <td>-0.026294</td>\n",
       "      <td>[0.008452192287374538, 0.0306391970417327, 0.0...</td>\n",
       "      <td>[0.2840779153042187, 0.1652189612630143, 0.140...</td>\n",
       "      <td>[0.1258199763285121, 0.4619952255812554, 0.094...</td>\n",
       "      <td>[0.25559188750025075, 0.2389616642259624, 0.12...</td>\n",
       "      <td>[0.4473911211859817, 0.21958314108607996, 0.13...</td>\n",
       "      <td>[0.10658187726935345, 0.2844189452145479, 0.28...</td>\n",
       "    </tr>\n",
       "    <tr>\n",
       "      <th>1812</th>\n",
       "      <td>1812</td>\n",
       "      <td>0.413064</td>\n",
       "      <td>1.070660</td>\n",
       "      <td>-0.142995</td>\n",
       "      <td>1.019764</td>\n",
       "      <td>1.0</td>\n",
       "      <td>-0.306231</td>\n",
       "      <td>-0.026260</td>\n",
       "      <td>[0.1552892131318395, 0.26003126628452317, 0.28...</td>\n",
       "      <td>[0.23453768531707023, 0.2171845848295785, 0.16...</td>\n",
       "      <td>[0.06275202118482556, 0.09860172126707725, 0.1...</td>\n",
       "      <td>[0.15445262503259977, 0.1181415130298714, 0.18...</td>\n",
       "      <td>[0.29749032038036394, 0.104580014845427, 0.078...</td>\n",
       "      <td>[0.2087588019339178, 0.29097036933015025, 0.20...</td>\n",
       "    </tr>\n",
       "    <tr>\n",
       "      <th>1813</th>\n",
       "      <td>1813</td>\n",
       "      <td>0.981307</td>\n",
       "      <td>1.898067</td>\n",
       "      <td>-0.151853</td>\n",
       "      <td>1.450791</td>\n",
       "      <td>1.0</td>\n",
       "      <td>-0.144100</td>\n",
       "      <td>-0.026456</td>\n",
       "      <td>[0.031721268850754034, 0.1981279251170047, 0.0...</td>\n",
       "      <td>[0.221791913313936, 0.21414668405738937, 0.188...</td>\n",
       "      <td>[0.1977726497441557, 0.1179692986856627, 0.112...</td>\n",
       "      <td>[0.10751479883615933, 0.17200762516303802, 0.2...</td>\n",
       "      <td>[0.23501555131935387, 0.1698404735627571, 0.12...</td>\n",
       "      <td>[0.17068325474064414, 0.3276211497943213, 0.25...</td>\n",
       "    </tr>\n",
       "  </tbody>\n",
       "</table>\n",
       "<p>1814 rows × 14 columns</p>\n",
       "</div>"
      ],
      "text/plain": [
       "        id  surface_area    volume  compactness  sphericity  diameter  \\\n",
       "0        0     -0.583110 -0.039329    -0.116012    0.230250       1.0   \n",
       "1        1     -0.640930 -0.415322    -0.118042    0.272779       1.0   \n",
       "2        2     -0.603237 -0.095673    -0.118419    0.280905       1.0   \n",
       "3        3     -0.520618  0.392970    -0.119893    0.313312       1.0   \n",
       "4        4     -0.724641 -0.475575    -0.095315   -0.114249       1.0   \n",
       "...    ...           ...       ...          ...         ...       ...   \n",
       "1809  1809     -0.365028 -0.011320    -0.113034    0.171236       1.0   \n",
       "1810  1810     -0.089583  0.813581    -0.138504    0.844492       1.0   \n",
       "1811  1811     -0.509943 -0.716180    -0.046532   -0.572259       1.0   \n",
       "1812  1812      0.413064  1.070660    -0.142995    1.019764       1.0   \n",
       "1813  1813      0.981307  1.898067    -0.151853    1.450791       1.0   \n",
       "\n",
       "      rectangulairty  eccentricity  \\\n",
       "0          -0.109650     -0.026311   \n",
       "1           0.097077     -0.026489   \n",
       "2          -0.043228     -0.026263   \n",
       "3          -0.468747     -0.026398   \n",
       "4          -0.306213     -0.026249   \n",
       "...              ...           ...   \n",
       "1809       -0.081913     -0.026487   \n",
       "1810       -0.125955     -0.026451   \n",
       "1811       -0.403390     -0.026294   \n",
       "1812       -0.306231     -0.026260   \n",
       "1813       -0.144100     -0.026456   \n",
       "\n",
       "                                              curvature  \\\n",
       "0     [0.0015568240788790867, 0.011416709911779968, ...   \n",
       "1     [0.04924623115577889, 0.054773869346733665, 0....   \n",
       "2     [0.015625, 0.03780241935483871, 0.137096774193...   \n",
       "3     [0.011866235167206042, 0.02481121898597627, 0....   \n",
       "4     [0.06380952380952382, 0.10952380952380952, 0.2...   \n",
       "...                                                 ...   \n",
       "1809  [0.08372530573847602, 0.009877704609595485, 0....   \n",
       "1810  [0.0903030303030303, 0.15575757575757576, 0.38...   \n",
       "1811  [0.008452192287374538, 0.0306391970417327, 0.0...   \n",
       "1812  [0.1552892131318395, 0.26003126628452317, 0.28...   \n",
       "1813  [0.031721268850754034, 0.1981279251170047, 0.0...   \n",
       "\n",
       "                                                     A3  \\\n",
       "0     [0.23664198719878007, 0.22873653163185456, 0.1...   \n",
       "1     [0.24772371746019012, 0.22417873330391883, 0.1...   \n",
       "2     [0.25301446542142325, 0.23644242922777522, 0.1...   \n",
       "3     [0.20333848283610537, 0.23802740605501274, 0.1...   \n",
       "4     [0.2399117529081428, 0.2335138387484958, 0.155...   \n",
       "...                                                 ...   \n",
       "1809  [0.1711191335740072, 0.23331327717609307, 0.20...   \n",
       "1810  [0.16446496687412165, 0.24053402931138326, 0.2...   \n",
       "1811  [0.2840779153042187, 0.1652189612630143, 0.140...   \n",
       "1812  [0.23453768531707023, 0.2171845848295785, 0.16...   \n",
       "1813  [0.221791913313936, 0.21414668405738937, 0.188...   \n",
       "\n",
       "                                                     D1  \\\n",
       "0     [0.04733241036136359, 0.12355785629727724, 0.1...   \n",
       "1     [0.12446351931330472, 0.25626729774176726, 0.1...   \n",
       "2     [0.15300042132295408, 0.21009971309913128, 0.1...   \n",
       "3     [0.05069919547378769, 0.09237004193166543, 0.0...   \n",
       "4     [0.17721620537505015, 0.18864821500200563, 0.2...   \n",
       "...                                                 ...   \n",
       "1809  [0.10609707180104291, 0.027476935419173686, 0....   \n",
       "1810  [0.18598674964866493, 0.2187111021883156, 0.21...   \n",
       "1811  [0.1258199763285121, 0.4619952255812554, 0.094...   \n",
       "1812  [0.06275202118482556, 0.09860172126707725, 0.1...   \n",
       "1813  [0.1977726497441557, 0.1179692986856627, 0.112...   \n",
       "\n",
       "                                                     D2  \\\n",
       "0     [0.09370171953690884, 0.19420534119865968, 0.2...   \n",
       "1     [0.151618466968834, 0.300790180899282, 0.27189...   \n",
       "2     [0.14629938005336757, 0.26599522500652045, 0.2...   \n",
       "3     [0.061753907268824106, 0.1599622815641113, 0.1...   \n",
       "4     [0.1078018451664661, 0.2600882470918572, 0.267...   \n",
       "...                                                 ...   \n",
       "1809  [0.10146409947853992, 0.1478740473325311, 0.25...   \n",
       "1810  [0.07153182091949407, 0.1783778357759486, 0.24...   \n",
       "1811  [0.25559188750025075, 0.2389616642259624, 0.12...   \n",
       "1812  [0.15445262503259977, 0.1181415130298714, 0.18...   \n",
       "1813  [0.10751479883615933, 0.17200762516303802, 0.2...   \n",
       "\n",
       "                                                     D3  \\\n",
       "0     [0.20435803286582796, 0.15628323200706273, 0.1...   \n",
       "1     [0.3746741005174281, 0.28757370342144317, 0.16...   \n",
       "2     [0.29506650883775054, 0.24288265152579097, 0.1...   \n",
       "3     [0.1285636899865578, 0.1484260578215597, 0.138...   \n",
       "4     [0.2778780585639791, 0.25130365022061774, 0.16...   \n",
       "...                                                 ...   \n",
       "1809  [0.1829121540312876, 0.11217408744484557, 0.09...   \n",
       "1810  [0.13278458140935556, 0.1505320216823931, 0.14...   \n",
       "1811  [0.4473911211859817, 0.21958314108607996, 0.13...   \n",
       "1812  [0.29749032038036394, 0.104580014845427, 0.078...   \n",
       "1813  [0.23501555131935387, 0.1698404735627571, 0.12...   \n",
       "\n",
       "                                                     D4  \n",
       "0     [0.13328919119565, 0.28198800136439334, 0.2750...  \n",
       "1     [0.07649111547872127, 0.2777064698568048, 0.32...  \n",
       "2     [0.11953534097064783, 0.3514635956904681, 0.29...  \n",
       "3     [0.08151596011476035, 0.2712316674357482, 0.31...  \n",
       "4     [0.07882069795427196, 0.2884476534296029, 0.31...  \n",
       "...                                                 ...  \n",
       "1809  [0.07059767348576013, 0.20198555956678702, 0.2...  \n",
       "1810  [0.08239309375627384, 0.27639028307568764, 0.3...  \n",
       "1811  [0.10658187726935345, 0.2844189452145479, 0.28...  \n",
       "1812  [0.2087588019339178, 0.29097036933015025, 0.20...  \n",
       "1813  [0.17068325474064414, 0.3276211497943213, 0.25...  \n",
       "\n",
       "[1814 rows x 14 columns]"
      ]
     },
     "execution_count": 45,
     "metadata": {},
     "output_type": "execute_result"
    }
   ],
   "source": [
    "normalized_data"
   ]
  },
  {
   "cell_type": "code",
   "execution_count": 12,
   "id": "e2ffacc5",
   "metadata": {
    "scrolled": true
   },
   "outputs": [],
   "source": [
    "with open('example_700.pkl', 'rb') as f:\n",
    "    query = pickle.load(f)"
   ]
  },
  {
   "cell_type": "code",
   "execution_count": 13,
   "id": "9fdaa14b",
   "metadata": {},
   "outputs": [],
   "source": [
    "sampled_min_max = np.load('sampeld_min_max.npy')\n",
    "sampled_mean_std = np.load('sampeld_mean_std.npy')"
   ]
  },
  {
   "cell_type": "code",
   "execution_count": 14,
   "id": "0aca6901",
   "metadata": {},
   "outputs": [],
   "source": [
    "def standardize(data, idx):\n",
    "    data_mean = sampled_mean_std[idx][0]  \n",
    "    data_std = sampled_mean_std[idx][1]  \n",
    "    normalized_descriptor_data = (data - data_mean)/data_std\n",
    "    return normalized_descriptor_data"
   ]
  },
  {
   "cell_type": "code",
   "execution_count": 104,
   "id": "5da32010",
   "metadata": {},
   "outputs": [],
   "source": [
    "def predict(normalized_data, query, sampled_min_max, sampled_mean_std, n):\n",
    "    comaprsion_df = normalized_data.copy()\n",
    "    scalar_query_features = np.array(query[1:8], dtype = 'float32')\n",
    "    descriptors_query_features = np.vstack(np.array(query[8:]))\n",
    "    comaprsion_values = {}\n",
    "    for index, row in normalized_data.iterrows():\n",
    "        scalar_features = np.array(row[1:8], dtype = 'float32')\n",
    "        descriptor_features = np.vstack(np.array(row[8:]))\n",
    "        scalar_distance = distance.cosine(scalar_query_features,scalar_features)\n",
    "        total_descriptor_distance = 0\n",
    "        for i in range(len(descriptors_query_features)):\n",
    "            descriptor_query_feature = descriptors_query_features[i]\n",
    "            descriptor_feature = descriptor_features[i]\n",
    "            descriptor_distance = wasserstein_distance(descriptor_query_feature,descriptor_feature)\n",
    "\n",
    "            descriptor_distance_scaled = (descriptor_distance - sampled_min_max[i][0]) / (sampled_min_max[i][1] - sampled_min_max[i][0])\n",
    "            total_descriptor_distance += descriptor_distance\n",
    "            total_descriptor_distance = total_descriptor_distance\n",
    "        total_distance = scalar_distance + total_descriptor_distance\n",
    "\n",
    "        if np.isnan(total_distance ): \n",
    "            comaprsion_values[index] = 999\n",
    "        else:\n",
    "            comaprsion_values[index] = total_distance\n",
    "    \n",
    "    extract = lambda x: x[0]\n",
    "    pred = list(map(extract,sorted(comaprsion_values.items(), key=lambda x: x[1])[:n]))\n",
    "    return pred"
   ]
  },
  {
   "cell_type": "code",
   "execution_count": 109,
   "id": "bd96e117",
   "metadata": {},
   "outputs": [
    {
     "name": "stdout",
     "output_type": "stream",
     "text": [
      "Class 0\n",
      "Class 1\n",
      "Class 2\n",
      "Class 3\n",
      "Class 4\n",
      "Class 5\n",
      "Class 6\n",
      "Class 7\n",
      "Class 8\n",
      "Class 9\n",
      "Class 10\n",
      "Class 11\n",
      "Class 12\n",
      "Class 13\n",
      "Class 14\n",
      "Class 15\n",
      "Class 16\n",
      "Class 17\n",
      "Class 18\n",
      "1813\r"
     ]
    }
   ],
   "source": [
    "# confusion matrix scaled for number of instances in a class\n",
    "d = np.zeros((19,19))\n",
    "class_acc = {}\n",
    "K = 5\n",
    "TP = {}\n",
    "FP = {}\n",
    "FN = {}\n",
    "for cls in range(0,19):\n",
    "    print(\"Class\", cls)\n",
    "    class_acc[cls] = 0\n",
    "    TP[cls] = 0\n",
    "    FP[cls] = 0\n",
    "    FN[cls] = 0\n",
    "    \n",
    "    query_classes = data[data['class']==cls].iloc[:,:14]\n",
    "    num_rows = 0\n",
    "    for index, row in query_classes.iterrows():\n",
    "        print(index, end='\\r')\n",
    "        num_rows +=1\n",
    "        query_instance = row\n",
    "        pred = predict(normalized_data, query_instance, sampled_min_max, sampled_mean_std, K)\n",
    "\n",
    "        pred_list = (map(lambda x: data.loc[x][\"class\"], pred))\n",
    "        pred_list = list(map(int, pred_list))\n",
    "        target_list = np.repeat(cls, K)\n",
    "        \n",
    "        \n",
    "        d[cls] += [pred_list.count(j) for j in range(0,19)]\n",
    "    \n",
    "    class_acc[cls] = d[cls][cls]/np.sum(d[cls])\n",
    "    TP[cls] = d[cls][cls]\n",
    "    FP[cls] = np.sum(d[cls]) - TP[cls]\n",
    "\n",
    "for i in range(0,19):\n",
    "    FN[i] = np.sum(d[:,i]) - TP[i]"
   ]
  },
  {
   "cell_type": "code",
   "execution_count": 110,
   "id": "07d35081",
   "metadata": {},
   "outputs": [],
   "source": [
    "P = {}\n",
    "R = {}\n",
    "for i in range(0,19):\n",
    "    P[i] = 0\n",
    "    R[i] = 0\n",
    "    P[i] = TP[i]/(TP[i] + FP[i])\n",
    "    R[i] = TP[i]/(TP[i] + FN[i])"
   ]
  },
  {
   "cell_type": "code",
   "execution_count": 111,
   "id": "1d7fcda6",
   "metadata": {},
   "outputs": [
    {
     "data": {
      "text/plain": [
       "{0: 0.41,\n",
       " 1: 0.642,\n",
       " 2: 0.518,\n",
       " 3: 0.542,\n",
       " 4: 0.38,\n",
       " 5: 0.366,\n",
       " 6: 0.424,\n",
       " 7: 0.33535353535353535,\n",
       " 8: 0.456,\n",
       " 9: 0.42,\n",
       " 10: 0.638,\n",
       " 11: 0.432,\n",
       " 12: 0.576,\n",
       " 13: 0.37,\n",
       " 14: 0.436,\n",
       " 15: 0.646,\n",
       " 16: 0.41,\n",
       " 17: 0.384,\n",
       " 18: 0.21333333333333335}"
      ]
     },
     "execution_count": 111,
     "metadata": {},
     "output_type": "execute_result"
    }
   ],
   "source": [
    "class_acc"
   ]
  },
  {
   "cell_type": "code",
   "execution_count": 112,
   "id": "fdeece29",
   "metadata": {},
   "outputs": [
    {
     "data": {
      "text/plain": [
       "0.4525624667729931"
      ]
     },
     "execution_count": 112,
     "metadata": {},
     "output_type": "execute_result"
    }
   ],
   "source": [
    "global_acc = np.mean(list(class_acc.values()))\n",
    "global_acc"
   ]
  },
  {
   "cell_type": "code",
   "execution_count": 113,
   "id": "e13bf812",
   "metadata": {},
   "outputs": [
    {
     "data": {
      "text/plain": [
       "{0: 0.41,\n",
       " 1: 0.642,\n",
       " 2: 0.518,\n",
       " 3: 0.542,\n",
       " 4: 0.38,\n",
       " 5: 0.366,\n",
       " 6: 0.424,\n",
       " 7: 0.33535353535353535,\n",
       " 8: 0.456,\n",
       " 9: 0.42,\n",
       " 10: 0.638,\n",
       " 11: 0.432,\n",
       " 12: 0.576,\n",
       " 13: 0.37,\n",
       " 14: 0.436,\n",
       " 15: 0.646,\n",
       " 16: 0.41,\n",
       " 17: 0.384,\n",
       " 18: 0.21333333333333335}"
      ]
     },
     "execution_count": 113,
     "metadata": {},
     "output_type": "execute_result"
    }
   ],
   "source": [
    "P"
   ]
  },
  {
   "cell_type": "code",
   "execution_count": 114,
   "id": "093a690f",
   "metadata": {},
   "outputs": [
    {
     "data": {
      "text/plain": [
       "0.4525624667729931"
      ]
     },
     "execution_count": 114,
     "metadata": {},
     "output_type": "execute_result"
    }
   ],
   "source": [
    "global_p = np.mean(list(P.values()))\n",
    "global_p"
   ]
  },
  {
   "cell_type": "code",
   "execution_count": 115,
   "id": "4b56209f",
   "metadata": {},
   "outputs": [
    {
     "data": {
      "text/plain": [
       "{0: 0.47235023041474655,\n",
       " 1: 0.5459183673469388,\n",
       " 2: 0.43456375838926176,\n",
       " 3: 0.4608843537414966,\n",
       " 4: 0.42792792792792794,\n",
       " 5: 0.41496598639455784,\n",
       " 6: 0.48847926267281105,\n",
       " 7: 0.3952380952380952,\n",
       " 8: 0.49032258064516127,\n",
       " 9: 0.39697542533081287,\n",
       " 10: 0.6590909090909091,\n",
       " 11: 0.4098671726755218,\n",
       " 12: 0.5070422535211268,\n",
       " 13: 0.39029535864978904,\n",
       " 14: 0.4105461393596987,\n",
       " 15: 0.5597920277296361,\n",
       " 16: 0.40433925049309666,\n",
       " 17: 0.47761194029850745,\n",
       " 18: 0.26229508196721313}"
      ]
     },
     "execution_count": 115,
     "metadata": {},
     "output_type": "execute_result"
    }
   ],
   "source": [
    "R"
   ]
  },
  {
   "cell_type": "code",
   "execution_count": 116,
   "id": "97ae90d4",
   "metadata": {},
   "outputs": [
    {
     "data": {
      "text/plain": [
       "0.4530792695730163"
      ]
     },
     "execution_count": 116,
     "metadata": {},
     "output_type": "execute_result"
    }
   ],
   "source": [
    "global_r = np.mean(list(R.values()))\n",
    "global_r"
   ]
  },
  {
   "cell_type": "code",
   "execution_count": 117,
   "id": "931a0cf9",
   "metadata": {},
   "outputs": [
    {
     "data": {
      "text/plain": [
       "{0: 205.0,\n",
       " 1: 321.0,\n",
       " 2: 259.0,\n",
       " 3: 271.0,\n",
       " 4: 190.0,\n",
       " 5: 183.0,\n",
       " 6: 212.0,\n",
       " 7: 166.0,\n",
       " 8: 228.0,\n",
       " 9: 210.0,\n",
       " 10: 319.0,\n",
       " 11: 216.0,\n",
       " 12: 288.0,\n",
       " 13: 185.0,\n",
       " 14: 218.0,\n",
       " 15: 323.0,\n",
       " 16: 205.0,\n",
       " 17: 192.0,\n",
       " 18: 16.0}"
      ]
     },
     "execution_count": 117,
     "metadata": {},
     "output_type": "execute_result"
    }
   ],
   "source": [
    "TP"
   ]
  },
  {
   "cell_type": "code",
   "execution_count": 118,
   "id": "602411ef",
   "metadata": {},
   "outputs": [
    {
     "data": {
      "text/plain": [
       "{0: 295.0,\n",
       " 1: 179.0,\n",
       " 2: 241.0,\n",
       " 3: 229.0,\n",
       " 4: 310.0,\n",
       " 5: 317.0,\n",
       " 6: 288.0,\n",
       " 7: 329.0,\n",
       " 8: 272.0,\n",
       " 9: 290.0,\n",
       " 10: 181.0,\n",
       " 11: 284.0,\n",
       " 12: 212.0,\n",
       " 13: 315.0,\n",
       " 14: 282.0,\n",
       " 15: 177.0,\n",
       " 16: 295.0,\n",
       " 17: 308.0,\n",
       " 18: 59.0}"
      ]
     },
     "execution_count": 118,
     "metadata": {},
     "output_type": "execute_result"
    }
   ],
   "source": [
    "FP"
   ]
  },
  {
   "cell_type": "code",
   "execution_count": 119,
   "id": "9c900954",
   "metadata": {},
   "outputs": [
    {
     "data": {
      "text/plain": [
       "{0: 229.0,\n",
       " 1: 267.0,\n",
       " 2: 337.0,\n",
       " 3: 317.0,\n",
       " 4: 254.0,\n",
       " 5: 258.0,\n",
       " 6: 222.0,\n",
       " 7: 254.0,\n",
       " 8: 237.0,\n",
       " 9: 319.0,\n",
       " 10: 165.0,\n",
       " 11: 311.0,\n",
       " 12: 280.0,\n",
       " 13: 289.0,\n",
       " 14: 313.0,\n",
       " 15: 254.0,\n",
       " 16: 302.0,\n",
       " 17: 210.0,\n",
       " 18: 45.0}"
      ]
     },
     "execution_count": 119,
     "metadata": {},
     "output_type": "execute_result"
    }
   ],
   "source": [
    "FN"
   ]
  },
  {
   "cell_type": "code",
   "execution_count": null,
   "id": "01f5ed9a",
   "metadata": {},
   "outputs": [],
   "source": []
  }
 ],
 "metadata": {
  "kernelspec": {
   "display_name": "Python 3",
   "language": "python",
   "name": "python3"
  },
  "language_info": {
   "codemirror_mode": {
    "name": "ipython",
    "version": 3
   },
   "file_extension": ".py",
   "mimetype": "text/x-python",
   "name": "python",
   "nbconvert_exporter": "python",
   "pygments_lexer": "ipython3",
   "version": "3.6.13"
  }
 },
 "nbformat": 4,
 "nbformat_minor": 5
}
