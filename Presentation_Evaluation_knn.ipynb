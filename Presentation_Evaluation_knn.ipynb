{
 "cells": [
  {
   "cell_type": "code",
   "execution_count": 1,
   "id": "6e902630",
   "metadata": {},
   "outputs": [
    {
     "name": "stdout",
     "output_type": "stream",
     "text": [
      "Jupyter environment detected. Enabling Open3D WebVisualizer.\n",
      "[Open3D INFO] WebRTC GUI backend enabled.\n",
      "[Open3D INFO] WebRTCWindowSystem: HTTP handshake server disabled.\n"
     ]
    }
   ],
   "source": [
    "from matplotlib.pyplot import draw, fill\n",
    "import pyrender\n",
    "import glob\n",
    "import trimesh\n",
    "from trimesh import remesh\n",
    "import pandas as pd\n",
    "import numpy as np\n",
    "from trimesh import Trimesh\n",
    "import matplotlib\n",
    "import matplotlib.pyplot as plt\n",
    "from matplotlib import cm\n",
    "import math\n",
    "import os\n",
    "import matplotlib.mlab as mlab\n",
    "import seaborn as sns\n",
    "import skeletor as sk\n",
    "from view_data import view_mesh\n",
    "import copy\n",
    "from sklearn.preprocessing import MinMaxScaler\n",
    "from project_statistics import get_outliers\n",
    "from create_dataset import load_dataset,dir_to_sorted_file_list\n",
    "from trimesh.repair import fill_holes\n",
    "from trimesh.points import PointCloud\n",
    "import re\n",
    "import random\n",
    "import pickle\n",
    "from scipy.stats import wasserstein_distance\n",
    "from utils import*\n",
    "\n",
    "from sklearn.neighbors import KNeighborsClassifier\n",
    "from sklearn.metrics import accuracy_score\n",
    "from sklearn.metrics import precision_score\n",
    "from sklearn.metrics import recall_score"
   ]
  },
  {
   "cell_type": "code",
   "execution_count": 2,
   "id": "ef92a9f4",
   "metadata": {},
   "outputs": [],
   "source": [
    "with open('query_database.pkl', 'rb') as f:\n",
    "    query_database = pickle.load(f)"
   ]
  },
  {
   "cell_type": "code",
   "execution_count": 4,
   "id": "d1f10b4f",
   "metadata": {},
   "outputs": [],
   "source": [
    "DB_DIRECTORY = r\"full_normalized_benchmark\\**\\*.off\"\n",
    "mesh_files = list(glob.glob(DB_DIRECTORY,recursive=True))\n",
    "mesh_files.sort(key=natural_keys)\n",
    "mean_std = np.load('mean_std.npy')"
   ]
  },
  {
   "cell_type": "code",
   "execution_count": 5,
   "id": "02a8aa45",
   "metadata": {},
   "outputs": [],
   "source": [
    "knn = KNeighborsClassifier(n_neighbors=5)\n",
    "knn.fit(np.array(query_database.iloc[:,1:]), np.array(query_database['class']))\n",
    "\n",
    "d = np.zeros((19,19))\n",
    "class_acc = {}\n",
    "K = 5\n",
    "TP = {}\n",
    "FP = {}\n",
    "FN = {}\n",
    "for cls in range(0,19):\n",
    "    class_acc[cls] = 0\n",
    "    TP[cls] = 0\n",
    "    FP[cls] = 0\n",
    "    FN[cls] = 0\n",
    "    query_classes = np.array(query_database[query_database['class']==cls].iloc[:,1:])\n",
    "    num_rows = 0\n",
    "    for row in query_classes:\n",
    "        num_rows +=1\n",
    "        knn_query = np.array(row)[np.newaxis,...]\n",
    "        knn_neighbors = knn.kneighbors(knn_query, K)[1][0]\n",
    "        pred_list = (map(lambda x: query_database.loc[x][\"class\"], knn_neighbors))\n",
    "        pred_list = list(map(int, pred_list))\n",
    "        target_list = np.repeat(cls, K)\n",
    "        d[cls] += [pred_list.count(j) for j in range(0,19)]\n",
    "\n",
    "    class_acc[cls] = d[cls][cls]/np.sum(d[cls])\n",
    "    TP[cls] = d[cls][cls]\n",
    "    FP[cls] = np.sum(d[cls]) - TP[cls]\n",
    "\n",
    "for i in range(0,19):\n",
    "    FN[i] = np.sum(d[:,i]) - TP[i]\n",
    "\n",
    "P = {}\n",
    "R = {}\n",
    "F1 = {} \n",
    "for i in range(0,19):\n",
    "    P[i] = 0\n",
    "    R[i] = 0\n",
    "    P[i] = TP[i]/(TP[i] + FP[i])\n",
    "    R[i] = TP[i]/(TP[i] + FN[i])\n",
    "    F1[i] = 2*((P[i]*R[i])/(P[i]+R[i]))"
   ]
  },
  {
   "cell_type": "code",
   "execution_count": 7,
   "id": "eb33c32b",
   "metadata": {},
   "outputs": [
    {
     "data": {
      "text/plain": [
       "{0: 0.428,\n",
       " 1: 0.598,\n",
       " 2: 0.49,\n",
       " 3: 0.518,\n",
       " 4: 0.36,\n",
       " 5: 0.358,\n",
       " 6: 0.478,\n",
       " 7: 0.34545454545454546,\n",
       " 8: 0.474,\n",
       " 9: 0.416,\n",
       " 10: 0.658,\n",
       " 11: 0.478,\n",
       " 12: 0.53,\n",
       " 13: 0.398,\n",
       " 14: 0.402,\n",
       " 15: 0.64,\n",
       " 16: 0.356,\n",
       " 17: 0.348,\n",
       " 18: 0.22666666666666666}"
      ]
     },
     "execution_count": 7,
     "metadata": {},
     "output_type": "execute_result"
    }
   ],
   "source": [
    "class_acc"
   ]
  },
  {
   "cell_type": "code",
   "execution_count": 8,
   "id": "65991848",
   "metadata": {},
   "outputs": [
    {
     "data": {
      "text/plain": [
       "0.44748006379585326"
      ]
     },
     "execution_count": 8,
     "metadata": {},
     "output_type": "execute_result"
    }
   ],
   "source": [
    "global_acc = np.mean(list(class_acc.values()))\n",
    "global_acc"
   ]
  },
  {
   "cell_type": "code",
   "execution_count": 9,
   "id": "1fa360fa",
   "metadata": {},
   "outputs": [
    {
     "data": {
      "text/plain": [
       "{0: 0.428,\n",
       " 1: 0.598,\n",
       " 2: 0.49,\n",
       " 3: 0.518,\n",
       " 4: 0.36,\n",
       " 5: 0.358,\n",
       " 6: 0.478,\n",
       " 7: 0.34545454545454546,\n",
       " 8: 0.474,\n",
       " 9: 0.416,\n",
       " 10: 0.658,\n",
       " 11: 0.478,\n",
       " 12: 0.53,\n",
       " 13: 0.398,\n",
       " 14: 0.402,\n",
       " 15: 0.64,\n",
       " 16: 0.356,\n",
       " 17: 0.348,\n",
       " 18: 0.22666666666666666}"
      ]
     },
     "execution_count": 9,
     "metadata": {},
     "output_type": "execute_result"
    }
   ],
   "source": [
    "P"
   ]
  },
  {
   "cell_type": "code",
   "execution_count": 10,
   "id": "c4c31101",
   "metadata": {},
   "outputs": [
    {
     "data": {
      "text/plain": [
       "0.44748006379585326"
      ]
     },
     "execution_count": 10,
     "metadata": {},
     "output_type": "execute_result"
    }
   ],
   "source": [
    "global_p = np.mean(list(P.values()))\n",
    "global_p"
   ]
  },
  {
   "cell_type": "code",
   "execution_count": 11,
   "id": "2279078b",
   "metadata": {},
   "outputs": [
    {
     "data": {
      "text/plain": [
       "{0: 0.45052631578947366,\n",
       " 1: 0.5155172413793103,\n",
       " 2: 0.4390681003584229,\n",
       " 3: 0.4288079470198676,\n",
       " 4: 0.4166666666666667,\n",
       " 5: 0.42822966507177035,\n",
       " 6: 0.5085106382978724,\n",
       " 7: 0.4453125,\n",
       " 8: 0.49894736842105264,\n",
       " 9: 0.4406779661016949,\n",
       " 10: 0.6266666666666667,\n",
       " 11: 0.3983333333333333,\n",
       " 12: 0.47237076648841353,\n",
       " 13: 0.47607655502392343,\n",
       " 14: 0.3544973544973545,\n",
       " 15: 0.5333333333333333,\n",
       " 16: 0.3938053097345133,\n",
       " 17: 0.42962962962962964,\n",
       " 18: 0.22972972972972974}"
      ]
     },
     "execution_count": 11,
     "metadata": {},
     "output_type": "execute_result"
    }
   ],
   "source": [
    "R"
   ]
  },
  {
   "cell_type": "code",
   "execution_count": 12,
   "id": "5f07e37f",
   "metadata": {},
   "outputs": [
    {
     "data": {
      "text/plain": [
       "0.446668794081212"
      ]
     },
     "execution_count": 12,
     "metadata": {},
     "output_type": "execute_result"
    }
   ],
   "source": [
    "global_r = np.mean(list(R.values()))\n",
    "global_r"
   ]
  },
  {
   "cell_type": "code",
   "execution_count": 13,
   "id": "fc7863a7",
   "metadata": {},
   "outputs": [
    {
     "data": {
      "text/plain": [
       "{0: 0.438974358974359,\n",
       " 1: 0.5537037037037038,\n",
       " 2: 0.46313799621928164,\n",
       " 3: 0.46920289855072467,\n",
       " 4: 0.3862660944206009,\n",
       " 5: 0.38997821350762524,\n",
       " 6: 0.49278350515463915,\n",
       " 7: 0.3890784982935154,\n",
       " 8: 0.48615384615384616,\n",
       " 9: 0.42798353909465014,\n",
       " 10: 0.641951219512195,\n",
       " 11: 0.4345454545454545,\n",
       " 12: 0.49952874646559847,\n",
       " 13: 0.4335511982570806,\n",
       " 14: 0.37675726335520143,\n",
       " 15: 0.5818181818181818,\n",
       " 16: 0.37394957983193283,\n",
       " 17: 0.3845303867403314,\n",
       " 18: 0.22818791946308725}"
      ]
     },
     "execution_count": 13,
     "metadata": {},
     "output_type": "execute_result"
    }
   ],
   "source": [
    "F1"
   ]
  },
  {
   "cell_type": "code",
   "execution_count": 14,
   "id": "aee39d40",
   "metadata": {},
   "outputs": [
    {
     "data": {
      "text/plain": [
       "0.44484645284536894"
      ]
     },
     "execution_count": 14,
     "metadata": {},
     "output_type": "execute_result"
    }
   ],
   "source": [
    "global_f1 = np.mean(list(F1.values()))\n",
    "global_f1"
   ]
  },
  {
   "cell_type": "code",
   "execution_count": 15,
   "id": "770af699",
   "metadata": {},
   "outputs": [
    {
     "data": {
      "text/plain": [
       "{0: 214.0,\n",
       " 1: 299.0,\n",
       " 2: 245.0,\n",
       " 3: 259.0,\n",
       " 4: 180.0,\n",
       " 5: 179.0,\n",
       " 6: 239.0,\n",
       " 7: 171.0,\n",
       " 8: 237.0,\n",
       " 9: 208.0,\n",
       " 10: 329.0,\n",
       " 11: 239.0,\n",
       " 12: 265.0,\n",
       " 13: 199.0,\n",
       " 14: 201.0,\n",
       " 15: 320.0,\n",
       " 16: 178.0,\n",
       " 17: 174.0,\n",
       " 18: 17.0}"
      ]
     },
     "execution_count": 15,
     "metadata": {},
     "output_type": "execute_result"
    }
   ],
   "source": [
    "TP"
   ]
  },
  {
   "cell_type": "code",
   "execution_count": 16,
   "id": "ac6085f8",
   "metadata": {},
   "outputs": [
    {
     "data": {
      "text/plain": [
       "{0: 286.0,\n",
       " 1: 201.0,\n",
       " 2: 255.0,\n",
       " 3: 241.0,\n",
       " 4: 320.0,\n",
       " 5: 321.0,\n",
       " 6: 261.0,\n",
       " 7: 324.0,\n",
       " 8: 263.0,\n",
       " 9: 292.0,\n",
       " 10: 171.0,\n",
       " 11: 261.0,\n",
       " 12: 235.0,\n",
       " 13: 301.0,\n",
       " 14: 299.0,\n",
       " 15: 180.0,\n",
       " 16: 322.0,\n",
       " 17: 326.0,\n",
       " 18: 58.0}"
      ]
     },
     "execution_count": 16,
     "metadata": {},
     "output_type": "execute_result"
    }
   ],
   "source": [
    "FP"
   ]
  },
  {
   "cell_type": "code",
   "execution_count": 17,
   "id": "65bbdf8e",
   "metadata": {},
   "outputs": [
    {
     "data": {
      "text/plain": [
       "{0: 261.0,\n",
       " 1: 281.0,\n",
       " 2: 313.0,\n",
       " 3: 345.0,\n",
       " 4: 252.0,\n",
       " 5: 239.0,\n",
       " 6: 231.0,\n",
       " 7: 213.0,\n",
       " 8: 238.0,\n",
       " 9: 264.0,\n",
       " 10: 196.0,\n",
       " 11: 361.0,\n",
       " 12: 296.0,\n",
       " 13: 219.0,\n",
       " 14: 366.0,\n",
       " 15: 280.0,\n",
       " 16: 274.0,\n",
       " 17: 231.0,\n",
       " 18: 57.0}"
      ]
     },
     "execution_count": 17,
     "metadata": {},
     "output_type": "execute_result"
    }
   ],
   "source": [
    "FN"
   ]
  },
  {
   "cell_type": "code",
   "execution_count": null,
   "id": "fcff410b",
   "metadata": {},
   "outputs": [],
   "source": []
  }
 ],
 "metadata": {
  "kernelspec": {
   "display_name": "Python 3",
   "language": "python",
   "name": "python3"
  },
  "language_info": {
   "codemirror_mode": {
    "name": "ipython",
    "version": 3
   },
   "file_extension": ".py",
   "mimetype": "text/x-python",
   "name": "python",
   "nbconvert_exporter": "python",
   "pygments_lexer": "ipython3",
   "version": "3.6.13"
  }
 },
 "nbformat": 4,
 "nbformat_minor": 5
}
