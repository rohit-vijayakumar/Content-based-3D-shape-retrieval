{
 "cells": [
  {
   "cell_type": "code",
   "execution_count": 1,
   "id": "6eb6908f",
   "metadata": {
    "scrolled": true
   },
   "outputs": [
    {
     "name": "stdout",
     "output_type": "stream",
     "text": [
      "Jupyter environment detected. Enabling Open3D WebVisualizer.\n",
      "[Open3D INFO] WebRTC GUI backend enabled.\n",
      "[Open3D INFO] WebRTCWindowSystem: HTTP handshake server disabled.\n"
     ]
    }
   ],
   "source": [
    "from matplotlib.pyplot import draw, fill\n",
    "import pyrender\n",
    "import trimesh\n",
    "from trimesh import remesh\n",
    "import pandas as pd\n",
    "import numpy as np\n",
    "from trimesh import Trimesh\n",
    "import matplotlib\n",
    "import matplotlib.pyplot as plt\n",
    "from matplotlib import cm\n",
    "import math\n",
    "import os\n",
    "import pickle\n",
    "import matplotlib.mlab as mlab\n",
    "import seaborn as sns\n",
    "import skeletor as sk\n",
    "from view_data import view_mesh\n",
    "import copy\n",
    "from sklearn.preprocessing import MinMaxScaler\n",
    "from project_statistics import get_outliers\n",
    "from create_dataset import load_dataset,dir_to_sorted_file_list\n",
    "from trimesh.repair import fill_holes\n",
    "from trimesh.points import PointCloud\n",
    "import ast\n",
    "import random\n",
    "from scipy.stats import wasserstein_distance\n",
    "from random import choice"
   ]
  },
  {
   "cell_type": "code",
   "execution_count": 2,
   "id": "817acb8d",
   "metadata": {},
   "outputs": [],
   "source": [
    "with open('query_database.pkl', 'rb') as f:\n",
    "    data = pickle.load(f)"
   ]
  },
  {
   "cell_type": "code",
   "execution_count": 3,
   "id": "9bdaf15c",
   "metadata": {},
   "outputs": [
    {
     "data": {
      "text/html": [
       "<div>\n",
       "<style scoped>\n",
       "    .dataframe tbody tr th:only-of-type {\n",
       "        vertical-align: middle;\n",
       "    }\n",
       "\n",
       "    .dataframe tbody tr th {\n",
       "        vertical-align: top;\n",
       "    }\n",
       "\n",
       "    .dataframe thead th {\n",
       "        text-align: right;\n",
       "    }\n",
       "</style>\n",
       "<table border=\"1\" class=\"dataframe\">\n",
       "  <thead>\n",
       "    <tr style=\"text-align: right;\">\n",
       "      <th></th>\n",
       "      <th>class</th>\n",
       "      <th>surface_area</th>\n",
       "      <th>volume</th>\n",
       "      <th>compactness</th>\n",
       "      <th>sphericity</th>\n",
       "      <th>diameter</th>\n",
       "      <th>rectangulairty</th>\n",
       "      <th>eccentricity</th>\n",
       "      <th>curvature_1</th>\n",
       "      <th>curvature_2</th>\n",
       "      <th>...</th>\n",
       "      <th>D3_7</th>\n",
       "      <th>D3_8</th>\n",
       "      <th>D4_1</th>\n",
       "      <th>D4_2</th>\n",
       "      <th>D4_3</th>\n",
       "      <th>D4_4</th>\n",
       "      <th>D4_5</th>\n",
       "      <th>D4_6</th>\n",
       "      <th>D4_7</th>\n",
       "      <th>D4_8</th>\n",
       "    </tr>\n",
       "  </thead>\n",
       "  <tbody>\n",
       "    <tr>\n",
       "      <th>0</th>\n",
       "      <td>0</td>\n",
       "      <td>-0.583110</td>\n",
       "      <td>-0.039329</td>\n",
       "      <td>-0.116012</td>\n",
       "      <td>0.230250</td>\n",
       "      <td>1.0</td>\n",
       "      <td>-0.109650</td>\n",
       "      <td>-0.026311</td>\n",
       "      <td>0.001557</td>\n",
       "      <td>0.011417</td>\n",
       "      <td>...</td>\n",
       "      <td>0.057084</td>\n",
       "      <td>0.150966</td>\n",
       "      <td>0.133289</td>\n",
       "      <td>0.281988</td>\n",
       "      <td>0.275026</td>\n",
       "      <td>0.193222</td>\n",
       "      <td>0.083168</td>\n",
       "      <td>0.026224</td>\n",
       "      <td>0.006381</td>\n",
       "      <td>0.000702</td>\n",
       "    </tr>\n",
       "    <tr>\n",
       "      <th>1</th>\n",
       "      <td>0</td>\n",
       "      <td>-0.640930</td>\n",
       "      <td>-0.415322</td>\n",
       "      <td>-0.118042</td>\n",
       "      <td>0.272779</td>\n",
       "      <td>1.0</td>\n",
       "      <td>0.097077</td>\n",
       "      <td>-0.026489</td>\n",
       "      <td>0.049246</td>\n",
       "      <td>0.054774</td>\n",
       "      <td>...</td>\n",
       "      <td>0.011351</td>\n",
       "      <td>0.008323</td>\n",
       "      <td>0.076491</td>\n",
       "      <td>0.277706</td>\n",
       "      <td>0.324074</td>\n",
       "      <td>0.208295</td>\n",
       "      <td>0.084754</td>\n",
       "      <td>0.023084</td>\n",
       "      <td>0.004934</td>\n",
       "      <td>0.000662</td>\n",
       "    </tr>\n",
       "    <tr>\n",
       "      <th>2</th>\n",
       "      <td>0</td>\n",
       "      <td>-0.603237</td>\n",
       "      <td>-0.095673</td>\n",
       "      <td>-0.118419</td>\n",
       "      <td>0.280905</td>\n",
       "      <td>1.0</td>\n",
       "      <td>-0.043228</td>\n",
       "      <td>-0.026263</td>\n",
       "      <td>0.015625</td>\n",
       "      <td>0.037802</td>\n",
       "      <td>...</td>\n",
       "      <td>0.030937</td>\n",
       "      <td>0.047529</td>\n",
       "      <td>0.119535</td>\n",
       "      <td>0.351464</td>\n",
       "      <td>0.292338</td>\n",
       "      <td>0.159019</td>\n",
       "      <td>0.059286</td>\n",
       "      <td>0.015208</td>\n",
       "      <td>0.002909</td>\n",
       "      <td>0.000241</td>\n",
       "    </tr>\n",
       "    <tr>\n",
       "      <th>3</th>\n",
       "      <td>0</td>\n",
       "      <td>-0.520618</td>\n",
       "      <td>0.392970</td>\n",
       "      <td>-0.119893</td>\n",
       "      <td>0.313312</td>\n",
       "      <td>1.0</td>\n",
       "      <td>-0.468747</td>\n",
       "      <td>-0.026398</td>\n",
       "      <td>0.011866</td>\n",
       "      <td>0.024811</td>\n",
       "      <td>...</td>\n",
       "      <td>0.062777</td>\n",
       "      <td>0.233072</td>\n",
       "      <td>0.081516</td>\n",
       "      <td>0.271232</td>\n",
       "      <td>0.319905</td>\n",
       "      <td>0.205084</td>\n",
       "      <td>0.088478</td>\n",
       "      <td>0.027306</td>\n",
       "      <td>0.005919</td>\n",
       "      <td>0.000562</td>\n",
       "    </tr>\n",
       "    <tr>\n",
       "      <th>4</th>\n",
       "      <td>0</td>\n",
       "      <td>-0.724641</td>\n",
       "      <td>-0.475575</td>\n",
       "      <td>-0.095315</td>\n",
       "      <td>-0.114249</td>\n",
       "      <td>1.0</td>\n",
       "      <td>-0.306213</td>\n",
       "      <td>-0.026249</td>\n",
       "      <td>0.063810</td>\n",
       "      <td>0.109524</td>\n",
       "      <td>...</td>\n",
       "      <td>0.027758</td>\n",
       "      <td>0.043682</td>\n",
       "      <td>0.078821</td>\n",
       "      <td>0.288448</td>\n",
       "      <td>0.314380</td>\n",
       "      <td>0.196209</td>\n",
       "      <td>0.087605</td>\n",
       "      <td>0.027216</td>\n",
       "      <td>0.006378</td>\n",
       "      <td>0.000943</td>\n",
       "    </tr>\n",
       "    <tr>\n",
       "      <th>...</th>\n",
       "      <td>...</td>\n",
       "      <td>...</td>\n",
       "      <td>...</td>\n",
       "      <td>...</td>\n",
       "      <td>...</td>\n",
       "      <td>...</td>\n",
       "      <td>...</td>\n",
       "      <td>...</td>\n",
       "      <td>...</td>\n",
       "      <td>...</td>\n",
       "      <td>...</td>\n",
       "      <td>...</td>\n",
       "      <td>...</td>\n",
       "      <td>...</td>\n",
       "      <td>...</td>\n",
       "      <td>...</td>\n",
       "      <td>...</td>\n",
       "      <td>...</td>\n",
       "      <td>...</td>\n",
       "      <td>...</td>\n",
       "      <td>...</td>\n",
       "    </tr>\n",
       "    <tr>\n",
       "      <th>1809</th>\n",
       "      <td>18</td>\n",
       "      <td>-0.365028</td>\n",
       "      <td>-0.011320</td>\n",
       "      <td>-0.113034</td>\n",
       "      <td>0.171236</td>\n",
       "      <td>1.0</td>\n",
       "      <td>-0.081913</td>\n",
       "      <td>-0.026487</td>\n",
       "      <td>0.083725</td>\n",
       "      <td>0.009878</td>\n",
       "      <td>...</td>\n",
       "      <td>0.079202</td>\n",
       "      <td>0.221199</td>\n",
       "      <td>0.070598</td>\n",
       "      <td>0.201986</td>\n",
       "      <td>0.215523</td>\n",
       "      <td>0.194605</td>\n",
       "      <td>0.172122</td>\n",
       "      <td>0.107080</td>\n",
       "      <td>0.033955</td>\n",
       "      <td>0.004132</td>\n",
       "    </tr>\n",
       "    <tr>\n",
       "      <th>1810</th>\n",
       "      <td>18</td>\n",
       "      <td>-0.089583</td>\n",
       "      <td>0.813581</td>\n",
       "      <td>-0.138504</td>\n",
       "      <td>0.844492</td>\n",
       "      <td>1.0</td>\n",
       "      <td>-0.125955</td>\n",
       "      <td>-0.026451</td>\n",
       "      <td>0.090303</td>\n",
       "      <td>0.155758</td>\n",
       "      <td>...</td>\n",
       "      <td>0.073821</td>\n",
       "      <td>0.172275</td>\n",
       "      <td>0.082393</td>\n",
       "      <td>0.276390</td>\n",
       "      <td>0.315840</td>\n",
       "      <td>0.217406</td>\n",
       "      <td>0.087171</td>\n",
       "      <td>0.017607</td>\n",
       "      <td>0.002690</td>\n",
       "      <td>0.000502</td>\n",
       "    </tr>\n",
       "    <tr>\n",
       "      <th>1811</th>\n",
       "      <td>18</td>\n",
       "      <td>-0.509943</td>\n",
       "      <td>-0.716180</td>\n",
       "      <td>-0.046532</td>\n",
       "      <td>-0.572259</td>\n",
       "      <td>1.0</td>\n",
       "      <td>-0.403390</td>\n",
       "      <td>-0.026294</td>\n",
       "      <td>0.008452</td>\n",
       "      <td>0.030639</td>\n",
       "      <td>...</td>\n",
       "      <td>0.018075</td>\n",
       "      <td>0.015025</td>\n",
       "      <td>0.106582</td>\n",
       "      <td>0.284419</td>\n",
       "      <td>0.280507</td>\n",
       "      <td>0.185721</td>\n",
       "      <td>0.093121</td>\n",
       "      <td>0.036229</td>\n",
       "      <td>0.012578</td>\n",
       "      <td>0.000843</td>\n",
       "    </tr>\n",
       "    <tr>\n",
       "      <th>1812</th>\n",
       "      <td>18</td>\n",
       "      <td>0.413064</td>\n",
       "      <td>1.070660</td>\n",
       "      <td>-0.142995</td>\n",
       "      <td>1.019764</td>\n",
       "      <td>1.0</td>\n",
       "      <td>-0.306231</td>\n",
       "      <td>-0.026260</td>\n",
       "      <td>0.155289</td>\n",
       "      <td>0.260031</td>\n",
       "      <td>...</td>\n",
       "      <td>0.063554</td>\n",
       "      <td>0.250346</td>\n",
       "      <td>0.208759</td>\n",
       "      <td>0.290970</td>\n",
       "      <td>0.200875</td>\n",
       "      <td>0.145325</td>\n",
       "      <td>0.100247</td>\n",
       "      <td>0.042771</td>\n",
       "      <td>0.010653</td>\n",
       "      <td>0.000401</td>\n",
       "    </tr>\n",
       "    <tr>\n",
       "      <th>1813</th>\n",
       "      <td>18</td>\n",
       "      <td>0.981307</td>\n",
       "      <td>1.898067</td>\n",
       "      <td>-0.151853</td>\n",
       "      <td>1.450791</td>\n",
       "      <td>1.0</td>\n",
       "      <td>-0.144100</td>\n",
       "      <td>-0.026456</td>\n",
       "      <td>0.031721</td>\n",
       "      <td>0.198128</td>\n",
       "      <td>...</td>\n",
       "      <td>0.055784</td>\n",
       "      <td>0.163038</td>\n",
       "      <td>0.170683</td>\n",
       "      <td>0.327621</td>\n",
       "      <td>0.252935</td>\n",
       "      <td>0.146343</td>\n",
       "      <td>0.070593</td>\n",
       "      <td>0.025885</td>\n",
       "      <td>0.005478</td>\n",
       "      <td>0.000462</td>\n",
       "    </tr>\n",
       "  </tbody>\n",
       "</table>\n",
       "<p>1814 rows × 56 columns</p>\n",
       "</div>"
      ],
      "text/plain": [
       "      class  surface_area    volume  compactness  sphericity  diameter  \\\n",
       "0         0     -0.583110 -0.039329    -0.116012    0.230250       1.0   \n",
       "1         0     -0.640930 -0.415322    -0.118042    0.272779       1.0   \n",
       "2         0     -0.603237 -0.095673    -0.118419    0.280905       1.0   \n",
       "3         0     -0.520618  0.392970    -0.119893    0.313312       1.0   \n",
       "4         0     -0.724641 -0.475575    -0.095315   -0.114249       1.0   \n",
       "...     ...           ...       ...          ...         ...       ...   \n",
       "1809     18     -0.365028 -0.011320    -0.113034    0.171236       1.0   \n",
       "1810     18     -0.089583  0.813581    -0.138504    0.844492       1.0   \n",
       "1811     18     -0.509943 -0.716180    -0.046532   -0.572259       1.0   \n",
       "1812     18      0.413064  1.070660    -0.142995    1.019764       1.0   \n",
       "1813     18      0.981307  1.898067    -0.151853    1.450791       1.0   \n",
       "\n",
       "      rectangulairty  eccentricity  curvature_1  curvature_2  ...      D3_7  \\\n",
       "0          -0.109650     -0.026311     0.001557     0.011417  ...  0.057084   \n",
       "1           0.097077     -0.026489     0.049246     0.054774  ...  0.011351   \n",
       "2          -0.043228     -0.026263     0.015625     0.037802  ...  0.030937   \n",
       "3          -0.468747     -0.026398     0.011866     0.024811  ...  0.062777   \n",
       "4          -0.306213     -0.026249     0.063810     0.109524  ...  0.027758   \n",
       "...              ...           ...          ...          ...  ...       ...   \n",
       "1809       -0.081913     -0.026487     0.083725     0.009878  ...  0.079202   \n",
       "1810       -0.125955     -0.026451     0.090303     0.155758  ...  0.073821   \n",
       "1811       -0.403390     -0.026294     0.008452     0.030639  ...  0.018075   \n",
       "1812       -0.306231     -0.026260     0.155289     0.260031  ...  0.063554   \n",
       "1813       -0.144100     -0.026456     0.031721     0.198128  ...  0.055784   \n",
       "\n",
       "          D3_8      D4_1      D4_2      D4_3      D4_4      D4_5      D4_6  \\\n",
       "0     0.150966  0.133289  0.281988  0.275026  0.193222  0.083168  0.026224   \n",
       "1     0.008323  0.076491  0.277706  0.324074  0.208295  0.084754  0.023084   \n",
       "2     0.047529  0.119535  0.351464  0.292338  0.159019  0.059286  0.015208   \n",
       "3     0.233072  0.081516  0.271232  0.319905  0.205084  0.088478  0.027306   \n",
       "4     0.043682  0.078821  0.288448  0.314380  0.196209  0.087605  0.027216   \n",
       "...        ...       ...       ...       ...       ...       ...       ...   \n",
       "1809  0.221199  0.070598  0.201986  0.215523  0.194605  0.172122  0.107080   \n",
       "1810  0.172275  0.082393  0.276390  0.315840  0.217406  0.087171  0.017607   \n",
       "1811  0.015025  0.106582  0.284419  0.280507  0.185721  0.093121  0.036229   \n",
       "1812  0.250346  0.208759  0.290970  0.200875  0.145325  0.100247  0.042771   \n",
       "1813  0.163038  0.170683  0.327621  0.252935  0.146343  0.070593  0.025885   \n",
       "\n",
       "          D4_7      D4_8  \n",
       "0     0.006381  0.000702  \n",
       "1     0.004934  0.000662  \n",
       "2     0.002909  0.000241  \n",
       "3     0.005919  0.000562  \n",
       "4     0.006378  0.000943  \n",
       "...        ...       ...  \n",
       "1809  0.033955  0.004132  \n",
       "1810  0.002690  0.000502  \n",
       "1811  0.012578  0.000843  \n",
       "1812  0.010653  0.000401  \n",
       "1813  0.005478  0.000462  \n",
       "\n",
       "[1814 rows x 56 columns]"
      ]
     },
     "execution_count": 3,
     "metadata": {},
     "output_type": "execute_result"
    }
   ],
   "source": [
    "data"
   ]
  },
  {
   "cell_type": "code",
   "execution_count": 4,
   "id": "ad0cb2ff",
   "metadata": {
    "scrolled": true
   },
   "outputs": [
    {
     "data": {
      "text/plain": [
       "surface_area     -0.588866\n",
       "volume           -0.504440\n",
       "compactness      -0.005640\n",
       "sphericity       -0.784274\n",
       "diameter          1.000000\n",
       "rectangulairty   -0.403296\n",
       "eccentricity     -0.026324\n",
       "curvature_1       0.120042\n",
       "curvature_2       0.026970\n",
       "curvature_3       0.011105\n",
       "curvature_4       0.019566\n",
       "curvature_5       0.004231\n",
       "curvature_6       0.008461\n",
       "curvature_7       0.793760\n",
       "curvature_8       0.015865\n",
       "A3_1              0.294194\n",
       "A3_2              0.184641\n",
       "A3_3              0.139905\n",
       "A3_4              0.118821\n",
       "A3_5              0.081046\n",
       "A3_6              0.073162\n",
       "A3_7              0.071678\n",
       "A3_8              0.036551\n",
       "D1_1              0.128892\n",
       "D1_2              0.067846\n",
       "D1_3              0.084718\n",
       "D1_4              0.135432\n",
       "D1_5              0.195153\n",
       "D1_6              0.134048\n",
       "D1_7              0.099523\n",
       "D1_8              0.154389\n",
       "D2_1              0.101850\n",
       "D2_2              0.173267\n",
       "D2_3              0.166185\n",
       "D2_4              0.176095\n",
       "D2_5              0.131841\n",
       "D2_6              0.100185\n",
       "D2_7              0.100907\n",
       "D2_8              0.049671\n",
       "D3_1              0.204883\n",
       "D3_2              0.216398\n",
       "D3_3              0.151862\n",
       "D3_4              0.106584\n",
       "D3_5              0.073925\n",
       "D3_6              0.050654\n",
       "D3_7              0.036009\n",
       "D3_8              0.159685\n",
       "D4_1              0.054586\n",
       "D4_2              0.219567\n",
       "D4_3              0.305629\n",
       "D4_4              0.229859\n",
       "D4_5              0.125401\n",
       "D4_6              0.051657\n",
       "D4_7              0.012197\n",
       "D4_8              0.001103\n",
       "Name: 221, dtype: float64"
      ]
     },
     "execution_count": 4,
     "metadata": {},
     "output_type": "execute_result"
    }
   ],
   "source": [
    "query = data.loc[221][1:]\n",
    "query"
   ]
  },
  {
   "cell_type": "code",
   "execution_count": 5,
   "id": "9fdaa14b",
   "metadata": {},
   "outputs": [],
   "source": [
    "sampled_min_max = np.load('sampeld_min_max.npy')\n",
    "sampled_mean_std = np.load('sampeld_mean_std.npy')"
   ]
  },
  {
   "cell_type": "code",
   "execution_count": 6,
   "id": "0aca6901",
   "metadata": {},
   "outputs": [],
   "source": [
    "def standardize(data, idx):\n",
    "    data_mean = sampled_mean_std[idx][0]  \n",
    "    data_std = sampled_mean_std[idx][1]  \n",
    "    normalized_descriptor_data = (data - data_mean)/data_std\n",
    "    return normalized_descriptor_data"
   ]
  },
  {
   "cell_type": "code",
   "execution_count": 7,
   "id": "24cfd4aa",
   "metadata": {},
   "outputs": [
    {
     "data": {
      "text/plain": [
       "KNeighborsClassifier(n_neighbors=10)"
      ]
     },
     "execution_count": 7,
     "metadata": {},
     "output_type": "execute_result"
    }
   ],
   "source": [
    "from sklearn.neighbors import KNeighborsClassifier\n",
    "from sklearn.metrics import accuracy_score\n",
    "from sklearn.metrics import precision_score\n",
    "from sklearn.metrics import recall_score\n",
    "\n",
    "knn = KNeighborsClassifier(n_neighbors=10)\n",
    "knn.fit(np.array(data.iloc[:,1:]), np.array(data['class']))"
   ]
  },
  {
   "cell_type": "code",
   "execution_count": 37,
   "id": "9576f97f",
   "metadata": {},
   "outputs": [],
   "source": [
    "# confusion matrix scaled for number of instances in a class\n",
    "d = np.zeros((19,19))\n",
    "class_acc = {}\n",
    "K = 5\n",
    "TP = {}\n",
    "FP = {}\n",
    "FN = {}\n",
    "for cls in range(0,19):\n",
    "    #d[cls] = np.zeros(19)\n",
    "    class_acc[cls] = 0\n",
    "    TP[cls] = 0\n",
    "    FP[cls] = 0\n",
    "    FN[cls] = 0\n",
    "    query_classes = np.array(data[data['class']==cls].iloc[:,1:])\n",
    "    num_rows = 0\n",
    "    for row in query_classes:\n",
    "        num_rows +=1\n",
    "        knn_query = np.array(row)[np.newaxis,...]\n",
    "        knn_neighbors = knn.kneighbors(knn_query, K)[1][0]\n",
    "        pred_list = (map(lambda x: data.loc[x][\"class\"], knn_neighbors))\n",
    "        pred_list = list(map(int, pred_list))\n",
    "        target_list = np.repeat(cls, K)\n",
    "        \n",
    "        #TP[cls] += pred_list.count(cls)\n",
    "        #FP[cls] += K - pred_list.count(cls)\n",
    "        \n",
    "        d[cls] += [pred_list.count(j) for j in range(0,19)]\n",
    "    \n",
    "    class_acc[cls] = d[cls][cls]/np.sum(d[cls])\n",
    "    TP[cls] = d[cls][cls]\n",
    "    FP[cls] = np.sum(d[cls]) - TP[cls]\n",
    "\n",
    "for i in range(0,19):\n",
    "    FN[i] = np.sum(d[:,i]) - TP[i]"
   ]
  },
  {
   "cell_type": "code",
   "execution_count": 38,
   "id": "b6c277bc",
   "metadata": {},
   "outputs": [],
   "source": [
    "P = {}\n",
    "R = {}\n",
    "F1 = {} \n",
    "for i in range(0,19):\n",
    "    P[i] = 0\n",
    "    R[i] = 0\n",
    "    P[i] = TP[i]/(TP[i] + FP[i])\n",
    "    R[i] = TP[i]/(TP[i] + FN[i])\n",
    "    F1[i] = 2*((P[i]*R[i])/(P[i]+R[i]))"
   ]
  },
  {
   "cell_type": "code",
   "execution_count": 39,
   "id": "df3e864f",
   "metadata": {},
   "outputs": [
    {
     "data": {
      "text/plain": [
       "{0: 0.428,\n",
       " 1: 0.598,\n",
       " 2: 0.49,\n",
       " 3: 0.518,\n",
       " 4: 0.36,\n",
       " 5: 0.358,\n",
       " 6: 0.478,\n",
       " 7: 0.34545454545454546,\n",
       " 8: 0.474,\n",
       " 9: 0.416,\n",
       " 10: 0.658,\n",
       " 11: 0.478,\n",
       " 12: 0.53,\n",
       " 13: 0.398,\n",
       " 14: 0.402,\n",
       " 15: 0.64,\n",
       " 16: 0.356,\n",
       " 17: 0.348,\n",
       " 18: 0.22666666666666666}"
      ]
     },
     "execution_count": 39,
     "metadata": {},
     "output_type": "execute_result"
    }
   ],
   "source": [
    "class_acc"
   ]
  },
  {
   "cell_type": "code",
   "execution_count": 21,
   "id": "46ed01e0",
   "metadata": {},
   "outputs": [
    {
     "data": {
      "text/plain": [
       "0.44748006379585326"
      ]
     },
     "execution_count": 21,
     "metadata": {},
     "output_type": "execute_result"
    }
   ],
   "source": [
    "global_acc = np.mean(list(class_acc.values()))\n",
    "global_acc"
   ]
  },
  {
   "cell_type": "code",
   "execution_count": 22,
   "id": "8630f41f",
   "metadata": {},
   "outputs": [
    {
     "data": {
      "text/plain": [
       "{0: 0.428,\n",
       " 1: 0.598,\n",
       " 2: 0.49,\n",
       " 3: 0.518,\n",
       " 4: 0.36,\n",
       " 5: 0.358,\n",
       " 6: 0.478,\n",
       " 7: 0.34545454545454546,\n",
       " 8: 0.474,\n",
       " 9: 0.416,\n",
       " 10: 0.658,\n",
       " 11: 0.478,\n",
       " 12: 0.53,\n",
       " 13: 0.398,\n",
       " 14: 0.402,\n",
       " 15: 0.64,\n",
       " 16: 0.356,\n",
       " 17: 0.348,\n",
       " 18: 0.22666666666666666}"
      ]
     },
     "execution_count": 22,
     "metadata": {},
     "output_type": "execute_result"
    }
   ],
   "source": [
    "P"
   ]
  },
  {
   "cell_type": "code",
   "execution_count": 23,
   "id": "145afe98",
   "metadata": {},
   "outputs": [
    {
     "data": {
      "text/plain": [
       "0.44748006379585326"
      ]
     },
     "execution_count": 23,
     "metadata": {},
     "output_type": "execute_result"
    }
   ],
   "source": [
    "global_p = np.mean(list(P.values()))\n",
    "global_p"
   ]
  },
  {
   "cell_type": "code",
   "execution_count": 24,
   "id": "ad5f0e82",
   "metadata": {},
   "outputs": [
    {
     "data": {
      "text/plain": [
       "{0: 0.45052631578947366,\n",
       " 1: 0.5155172413793103,\n",
       " 2: 0.4390681003584229,\n",
       " 3: 0.4288079470198676,\n",
       " 4: 0.4166666666666667,\n",
       " 5: 0.42822966507177035,\n",
       " 6: 0.5085106382978724,\n",
       " 7: 0.4453125,\n",
       " 8: 0.49894736842105264,\n",
       " 9: 0.4406779661016949,\n",
       " 10: 0.6266666666666667,\n",
       " 11: 0.3983333333333333,\n",
       " 12: 0.47237076648841353,\n",
       " 13: 0.47607655502392343,\n",
       " 14: 0.3544973544973545,\n",
       " 15: 0.5333333333333333,\n",
       " 16: 0.3938053097345133,\n",
       " 17: 0.42962962962962964,\n",
       " 18: 0.22972972972972974}"
      ]
     },
     "execution_count": 24,
     "metadata": {},
     "output_type": "execute_result"
    }
   ],
   "source": [
    "R"
   ]
  },
  {
   "cell_type": "code",
   "execution_count": 25,
   "id": "719f2e74",
   "metadata": {},
   "outputs": [
    {
     "data": {
      "text/plain": [
       "0.446668794081212"
      ]
     },
     "execution_count": 25,
     "metadata": {},
     "output_type": "execute_result"
    }
   ],
   "source": [
    "global_r = np.mean(list(R.values()))\n",
    "global_r"
   ]
  },
  {
   "cell_type": "code",
   "execution_count": 27,
   "id": "7a7893f1",
   "metadata": {},
   "outputs": [
    {
     "data": {
      "text/plain": [
       "{0: 0.438974358974359,\n",
       " 1: 0.5537037037037038,\n",
       " 2: 0.46313799621928164,\n",
       " 3: 0.46920289855072467,\n",
       " 4: 0.3862660944206009,\n",
       " 5: 0.38997821350762524,\n",
       " 6: 0.49278350515463915,\n",
       " 7: 0.3890784982935154,\n",
       " 8: 0.48615384615384616,\n",
       " 9: 0.42798353909465014,\n",
       " 10: 0.641951219512195,\n",
       " 11: 0.4345454545454545,\n",
       " 12: 0.49952874646559847,\n",
       " 13: 0.4335511982570806,\n",
       " 14: 0.37675726335520143,\n",
       " 15: 0.5818181818181818,\n",
       " 16: 0.37394957983193283,\n",
       " 17: 0.3845303867403314,\n",
       " 18: 0.22818791946308725}"
      ]
     },
     "execution_count": 27,
     "metadata": {},
     "output_type": "execute_result"
    }
   ],
   "source": [
    "F1"
   ]
  },
  {
   "cell_type": "code",
   "execution_count": 28,
   "id": "aea66203",
   "metadata": {},
   "outputs": [
    {
     "data": {
      "text/plain": [
       "0.44484645284536894"
      ]
     },
     "execution_count": 28,
     "metadata": {},
     "output_type": "execute_result"
    }
   ],
   "source": [
    "global_f1 = np.mean(list(F1.values()))\n",
    "global_f1"
   ]
  },
  {
   "cell_type": "code",
   "execution_count": 26,
   "id": "fd3c56fa",
   "metadata": {},
   "outputs": [
    {
     "data": {
      "text/plain": [
       "{0: 214.0,\n",
       " 1: 299.0,\n",
       " 2: 245.0,\n",
       " 3: 259.0,\n",
       " 4: 180.0,\n",
       " 5: 179.0,\n",
       " 6: 239.0,\n",
       " 7: 171.0,\n",
       " 8: 237.0,\n",
       " 9: 208.0,\n",
       " 10: 329.0,\n",
       " 11: 239.0,\n",
       " 12: 265.0,\n",
       " 13: 199.0,\n",
       " 14: 201.0,\n",
       " 15: 320.0,\n",
       " 16: 178.0,\n",
       " 17: 174.0,\n",
       " 18: 17.0}"
      ]
     },
     "execution_count": 26,
     "metadata": {},
     "output_type": "execute_result"
    }
   ],
   "source": [
    "TP"
   ]
  },
  {
   "cell_type": "code",
   "execution_count": 17,
   "id": "82779d02",
   "metadata": {},
   "outputs": [
    {
     "data": {
      "text/plain": [
       "{0: 286.0,\n",
       " 1: 201.0,\n",
       " 2: 255.0,\n",
       " 3: 241.0,\n",
       " 4: 320.0,\n",
       " 5: 321.0,\n",
       " 6: 261.0,\n",
       " 7: 324.0,\n",
       " 8: 263.0,\n",
       " 9: 292.0,\n",
       " 10: 171.0,\n",
       " 11: 261.0,\n",
       " 12: 235.0,\n",
       " 13: 301.0,\n",
       " 14: 299.0,\n",
       " 15: 180.0,\n",
       " 16: 322.0,\n",
       " 17: 326.0,\n",
       " 18: 58.0}"
      ]
     },
     "execution_count": 17,
     "metadata": {},
     "output_type": "execute_result"
    }
   ],
   "source": [
    "FP"
   ]
  },
  {
   "cell_type": "code",
   "execution_count": 62,
   "id": "7a8b5323",
   "metadata": {},
   "outputs": [
    {
     "data": {
      "text/plain": [
       "{0: 261.0,\n",
       " 1: 281.0,\n",
       " 2: 313.0,\n",
       " 3: 345.0,\n",
       " 4: 252.0,\n",
       " 5: 239.0,\n",
       " 6: 231.0,\n",
       " 7: 213.0,\n",
       " 8: 238.0,\n",
       " 9: 264.0,\n",
       " 10: 196.0,\n",
       " 11: 361.0,\n",
       " 12: 296.0,\n",
       " 13: 219.0,\n",
       " 14: 366.0,\n",
       " 15: 280.0,\n",
       " 16: 274.0,\n",
       " 17: 231.0,\n",
       " 18: 57.0}"
      ]
     },
     "execution_count": 62,
     "metadata": {},
     "output_type": "execute_result"
    }
   ],
   "source": [
    "FN"
   ]
  },
  {
   "cell_type": "code",
   "execution_count": 63,
   "id": "cc7d558e",
   "metadata": {},
   "outputs": [],
   "source": [
    "def evaluate(K):\n",
    "    d = np.zeros((19,19))\n",
    "    class_acc = {}\n",
    "    TP = {}\n",
    "    FP = {}\n",
    "    FN = {}\n",
    "    for cls in range(0,19):\n",
    "        #d[cls] = np.zeros(19)\n",
    "        class_acc[cls] = 0\n",
    "        TP[cls] = 0\n",
    "        FP[cls] = 0\n",
    "        FN[cls] = 0\n",
    "        query_classes = np.array(data[data['class']==cls].iloc[:,1:])\n",
    "        num_rows = 0\n",
    "        for row in query_classes:\n",
    "            num_rows +=1\n",
    "            knn_query = np.array(row)[np.newaxis,...]\n",
    "            knn_neighbors = knn.kneighbors(knn_query, K)[1][0]\n",
    "            pred_list = (map(lambda x: data.loc[x][\"class\"], knn_neighbors))\n",
    "            pred_list = list(map(int, pred_list))\n",
    "            target_list = np.repeat(cls, K)\n",
    "\n",
    "            #TP[cls] += pred_list.count(cls)\n",
    "            #FP[cls] += K - pred_list.count(cls)\n",
    "\n",
    "            d[cls] += [pred_list.count(j) for j in range(0,19)]\n",
    "\n",
    "        class_acc[cls] = d[cls][cls]/np.sum(d[cls])\n",
    "        TP[cls] = d[cls][cls]\n",
    "        FP[cls] = np.sum(d[cls]) - TP[cls]\n",
    "\n",
    "    for i in range(0,19):\n",
    "        FN[i] = np.sum(d[:,i]) - TP[i]\n",
    "    \n",
    "    P = {}\n",
    "    R = {}\n",
    "    F1 = {} \n",
    "    for i in range(0,19):\n",
    "        P[i] = 0\n",
    "        R[i] = 0\n",
    "        P[i] = TP[i]/(TP[i] + FP[i])\n",
    "        R[i] = TP[i]/(TP[i] + FN[i])\n",
    "        F1[i] = 2*((P[i]*R[i])/(P[i]+R[i]))\n",
    "        \n",
    "    global_p = np.mean(list(P.values()))\n",
    "    global_r = np.mean(list(R.values()))\n",
    "    return (R[0],P[0])"
   ]
  },
  {
   "cell_type": "code",
   "execution_count": 64,
   "id": "77cfe235",
   "metadata": {},
   "outputs": [
    {
     "name": "stdout",
     "output_type": "stream",
     "text": [
      "9\r"
     ]
    }
   ],
   "source": [
    "pr_curve = []\n",
    "for k in range (1,10):\n",
    "    print(k, end='\\r')\n",
    "    pr_curve.append(evaluate(k))"
   ]
  },
  {
   "cell_type": "code",
   "execution_count": 65,
   "id": "ae287c17",
   "metadata": {},
   "outputs": [
    {
     "data": {
      "text/plain": [
       "[(1.0, 1.0),\n",
       " (0.7064676616915423, 0.71),\n",
       " (0.5818815331010453, 0.5566666666666666),\n",
       " (0.5078125, 0.4875),\n",
       " (0.45052631578947366, 0.428),\n",
       " (0.41403508771929826, 0.3933333333333333),\n",
       " (0.37537091988130566, 0.36142857142857143),\n",
       " (0.35286284953395475, 0.33125),\n",
       " (0.3286549707602339, 0.31222222222222223)]"
      ]
     },
     "execution_count": 65,
     "metadata": {},
     "output_type": "execute_result"
    }
   ],
   "source": [
    "pr_curve"
   ]
  },
  {
   "cell_type": "code",
   "execution_count": 66,
   "id": "3cad6379",
   "metadata": {},
   "outputs": [
    {
     "data": {
      "text/plain": [
       "array([1.        , 0.71      , 0.55666667, 0.4875    , 0.428     ,\n",
       "       0.39333333, 0.36142857, 0.33125   , 0.31222222])"
      ]
     },
     "execution_count": 66,
     "metadata": {},
     "output_type": "execute_result"
    }
   ],
   "source": [
    "np.array(pr_curve)[:,1]"
   ]
  },
  {
   "cell_type": "code",
   "execution_count": 67,
   "id": "37e7bd13",
   "metadata": {},
   "outputs": [
    {
     "data": {
      "text/plain": [
       "[<matplotlib.lines.Line2D at 0x245b85474a8>]"
      ]
     },
     "execution_count": 67,
     "metadata": {},
     "output_type": "execute_result"
    },
    {
     "data": {
      "image/png": "[encoded data removed]",
      "text/plain": [
       "<Figure size 432x288 with 1 Axes>"
      ]
     },
     "metadata": {
      "needs_background": "light"
     },
     "output_type": "display_data"
    }
   ],
   "source": [
    "plt.plot(np.array(pr_curve)[:,0], np.array(pr_curve)[:,1])"
   ]
  },
  {
   "cell_type": "code",
   "execution_count": null,
   "id": "045d0740",
   "metadata": {},
   "outputs": [],
   "source": [
    "# metric for distance approach\n",
    "# fine grained classes\n",
    "\n",
    "# f1 and roc curve\n",
    "# metrics for differnt query lengths (report thing)\n",
    "# presentation"
   ]
  },
  {
   "cell_type": "code",
   "execution_count": 163,
   "id": "13055b80",
   "metadata": {},
   "outputs": [
    {
     "data": {
      "text/plain": [
       "{0: array([214.,  20.,  38.,  25.,  11.,   8.,  11.,  14.,  10.,  10.,   9.,\n",
       "         26.,  34.,  18.,  16.,   9.,  12.,  11.,   4.]),\n",
       " 1: array([ 17., 299.,  51.,  12.,   5.,   4.,  20.,   2.,   4.,   2.,   2.,\n",
       "          8.,   6.,  12.,  22.,  19.,  10.,   4.,   1.]),\n",
       " 2: array([ 35.,  48., 245.,  38.,   3.,  10.,   2.,   2.,   4.,   2.,  13.,\n",
       "         20.,  22.,  20.,  17.,   5.,  11.,   3.,   0.]),\n",
       " 3: array([ 13.,  16.,  30., 259.,  10.,  24.,   5.,   9.,   6.,  20.,  31.,\n",
       "          4.,   2.,  13.,  16.,   6.,  20.,  14.,   2.]),\n",
       " 4: array([ 14.,  14.,   9.,  19., 180.,  33.,  14.,  19.,  15.,  16.,   3.,\n",
       "         12.,   8.,  13.,  33.,  46.,  17.,  26.,   9.]),\n",
       " 5: array([  8.,  13.,  12.,  44.,  37., 179.,   9.,  19.,  28.,  24.,  10.,\n",
       "          6.,   0.,   5.,  23.,  32.,  18.,  27.,   6.]),\n",
       " 6: array([ 20.,  30.,  16.,  14.,   5.,   9., 239.,  25.,   8.,   6.,   8.,\n",
       "         18.,  16.,  12.,  38.,   5.,  19.,  11.,   1.]),\n",
       " 7: array([ 14.,  15.,  11.,  23.,  23.,  19.,  41., 171.,  28.,  21.,  12.,\n",
       "         21.,   8.,  10.,  14.,  17.,  25.,  18.,   4.]),\n",
       " 8: array([ 10.,   5.,   9.,  14.,  22.,  21.,   6.,  26., 237.,  51.,   2.,\n",
       "          6.,   2.,   3.,  15.,  36.,  12.,  18.,   5.]),\n",
       " 9: array([  8.,   8.,  11.,  21.,  21.,  26.,   8.,  17.,  55., 208.,  53.,\n",
       "          2.,   2.,  12.,  13.,   6.,  13.,  10.,   6.]),\n",
       " 10: array([  8.,   7.,  14.,  30.,   3.,   2.,   6.,   0.,   0.,  65., 329.,\n",
       "          5.,   4.,  10.,  10.,   0.,   4.,   2.,   1.]),\n",
       " 11: array([ 17.,  12.,  20.,   5.,   7.,   1.,  23.,  13.,   3.,   2.,   3.,\n",
       "        239.,  89.,  23.,  24.,   0.,  11.,   6.,   2.]),\n",
       " 12: array([ 29.,  10.,  15.,   0.,   0.,   0.,   4.,   1.,   0.,   5.,   0.,\n",
       "        113., 265.,  19.,  16.,   0.,  17.,   6.,   0.]),\n",
       " 13: array([ 18.,  18.,  25.,  21.,  18.,   3.,  20.,   2.,   2.,   7.,  11.,\n",
       "         53.,  43., 199.,  23.,   6.,  20.,  10.,   1.]),\n",
       " 14: array([ 13.,  32.,  28.,  16.,  11.,  10.,  20.,   6.,  12.,  12.,   4.,\n",
       "         22.,  20.,  13., 201.,  54.,  11.,  13.,   2.]),\n",
       " 15: array([  6.,  19.,   4.,   9.,  30.,  11.,   5.,   6.,  16.,   0.,   0.,\n",
       "          2.,   0.,   5.,  41., 320.,  13.,  10.,   3.]),\n",
       " 16: array([ 18.,  10.,  14.,  24.,  12.,  20.,  19.,  27.,  14.,   8.,  10.,\n",
       "         25.,  28.,  15.,  22.,  18., 178.,  33.,   5.]),\n",
       " 17: array([ 13.,   3.,   6.,  24.,  28.,  35.,  17.,  21.,  30.,  10.,  18.,\n",
       "         15.,  12.,  15.,  20.,  17.,  37., 174.,   5.]),\n",
       " 18: array([ 0.,  1.,  0.,  6.,  6.,  3.,  1.,  4.,  3.,  3.,  7.,  3.,  0.,\n",
       "         1.,  3.,  4.,  4.,  9., 17.])}"
      ]
     },
     "execution_count": 163,
     "metadata": {},
     "output_type": "execute_result"
    }
   ],
   "source": [
    "d"
   ]
  },
  {
   "cell_type": "code",
   "execution_count": null,
   "id": "701861e0",
   "metadata": {},
   "outputs": [],
   "source": []
  }
 ],
 "metadata": {
  "kernelspec": {
   "display_name": "Python 3",
   "language": "python",
   "name": "python3"
  },
  "language_info": {
   "codemirror_mode": {
    "name": "ipython",
    "version": 3
   },
   "file_extension": ".py",
   "mimetype": "text/x-python",
   "name": "python",
   "nbconvert_exporter": "python",
   "pygments_lexer": "ipython3",
   "version": "3.6.13"
  }
 },
 "nbformat": 4,
 "nbformat_minor": 5
}
